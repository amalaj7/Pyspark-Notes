{
 "cells": [
  {
   "cell_type": "code",
   "execution_count": 21,
   "metadata": {},
   "outputs": [],
   "source": [
    "from __future__ import print_function\n",
    "import findspark\n",
    "findspark.init()\n",
    "findspark.find()\n",
    "import pyspark\n",
    "findspark.find()\n",
    "from pyspark.sql import SparkSession\n",
    "from pyspark.ml.feature import HashingTF\n",
    "from pyspark.ml.feature import Tokenizer\n",
    "from pyspark.ml.feature import IDF"
   ]
  },
  {
   "cell_type": "code",
   "execution_count": 2,
   "metadata": {},
   "outputs": [],
   "source": [
    "if __name__ == \"__main__\":\n",
    "    spark = SparkSession\\\n",
    "        .builder\\\n",
    "        .appName(\"Tf-Idf\")\\\n",
    "        .getOrCreate()"
   ]
  },
  {
   "cell_type": "code",
   "execution_count": 9,
   "metadata": {},
   "outputs": [],
   "source": [
    "documentDF = spark.createDataFrame([\n",
    "        (0,\"Let's see an example of countVectorizer\"),\n",
    "        (1,\"We will use pyspark library\"),\n",
    "        (2,\"countVectorizer is important for NLP\")\n",
    "    ], [\"index\",\"sentence\"])"
   ]
  },
  {
   "cell_type": "code",
   "execution_count": 13,
   "metadata": {},
   "outputs": [
    {
     "name": "stdout",
     "output_type": "stream",
     "text": [
      "+-----+---------------------------------------+\n",
      "|index|sentence                               |\n",
      "+-----+---------------------------------------+\n",
      "|0    |Let's see an example of countVectorizer|\n",
      "|1    |We will use pyspark library            |\n",
      "|2    |countVectorizer is important for NLP   |\n",
      "+-----+---------------------------------------+\n",
      "\n"
     ]
    }
   ],
   "source": [
    "documentDF.show(truncate=False)"
   ]
  },
  {
   "cell_type": "code",
   "execution_count": 17,
   "metadata": {},
   "outputs": [],
   "source": [
    "tokenizer = Tokenizer(inputCol=\"sentence\", outputCol=\"words\")\n"
   ]
  },
  {
   "cell_type": "code",
   "execution_count": 18,
   "metadata": {},
   "outputs": [],
   "source": [
    "wordsDf = tokenizer.transform(documentDF)"
   ]
  },
  {
   "cell_type": "code",
   "execution_count": 20,
   "metadata": {},
   "outputs": [
    {
     "name": "stdout",
     "output_type": "stream",
     "text": [
      "+-----+---------------------------------------+----------------------------------------------+\n",
      "|index|sentence                               |words                                         |\n",
      "+-----+---------------------------------------+----------------------------------------------+\n",
      "|0    |Let's see an example of countVectorizer|[let's, see, an, example, of, countvectorizer]|\n",
      "|1    |We will use pyspark library            |[we, will, use, pyspark, library]             |\n",
      "|2    |countVectorizer is important for NLP   |[countvectorizer, is, important, for, nlp]    |\n",
      "+-----+---------------------------------------+----------------------------------------------+\n",
      "\n"
     ]
    }
   ],
   "source": [
    "wordsDf.show(truncate=False)"
   ]
  },
  {
   "cell_type": "code",
   "execution_count": 23,
   "metadata": {},
   "outputs": [],
   "source": [
    "TF = HashingTF(inputCol=\"words\", outputCol=\"term_frequency\")"
   ]
  },
  {
   "cell_type": "code",
   "execution_count": 24,
   "metadata": {},
   "outputs": [],
   "source": [
    "\n",
    "tf_data = TF.transform(wordsDf)"
   ]
  },
  {
   "cell_type": "code",
   "execution_count": 26,
   "metadata": {},
   "outputs": [
    {
     "name": "stdout",
     "output_type": "stream",
     "text": [
      "+-----+---------------------------------------+----------------------------------------------+---------------------------------------------------------------------------+\n",
      "|index|sentence                               |words                                         |term_frequency                                                             |\n",
      "+-----+---------------------------------------+----------------------------------------------+---------------------------------------------------------------------------+\n",
      "|0    |Let's see an example of countVectorizer|[let's, see, an, example, of, countvectorizer]|(262144,[9639,86646,118651,194536,215995,222178],[1.0,1.0,1.0,1.0,1.0,1.0])|\n",
      "|1    |We will use pyspark library            |[we, will, use, pyspark, library]             |(262144,[10645,89356,116873,124278,147489],[1.0,1.0,1.0,1.0,1.0])          |\n",
      "|2    |countVectorizer is important for NLP   |[countvectorizer, is, important, for, nlp]    |(262144,[15889,16332,86646,116034,193401],[1.0,1.0,1.0,1.0,1.0])           |\n",
      "+-----+---------------------------------------+----------------------------------------------+---------------------------------------------------------------------------+\n",
      "\n"
     ]
    }
   ],
   "source": [
    "tf_data.show(truncate=False)"
   ]
  },
  {
   "cell_type": "code",
   "execution_count": 27,
   "metadata": {},
   "outputs": [],
   "source": [
    "idf = IDF(inputCol=\"term_frequency\", outputCol=\"idf\")"
   ]
  },
  {
   "cell_type": "code",
   "execution_count": 28,
   "metadata": {},
   "outputs": [],
   "source": [
    "idf_Model = idf.fit(tf_data)"
   ]
  },
  {
   "cell_type": "code",
   "execution_count": 29,
   "metadata": {},
   "outputs": [],
   "source": [
    "new_Data = idf_Model.transform(tf_data)"
   ]
  },
  {
   "cell_type": "code",
   "execution_count": 33,
   "metadata": {},
   "outputs": [
    {
     "name": "stdout",
     "output_type": "stream",
     "text": [
      "+-----+----------------------------------------------------------------------------------------------------------------------------------------------------------------------+\n",
      "|index|idf                                                                                                                                                                   |\n",
      "+-----+----------------------------------------------------------------------------------------------------------------------------------------------------------------------+\n",
      "|0    |(262144,[9639,86646,118651,194536,215995,222178],[0.6931471805599453,0.28768207245178085,0.6931471805599453,0.6931471805599453,0.6931471805599453,0.6931471805599453])|\n",
      "|1    |(262144,[10645,89356,116873,124278,147489],[0.6931471805599453,0.6931471805599453,0.6931471805599453,0.6931471805599453,0.6931471805599453])                          |\n",
      "|2    |(262144,[15889,16332,86646,116034,193401],[0.6931471805599453,0.6931471805599453,0.28768207245178085,0.6931471805599453,0.6931471805599453])                          |\n",
      "+-----+----------------------------------------------------------------------------------------------------------------------------------------------------------------------+\n",
      "\n"
     ]
    }
   ],
   "source": [
    "new_Data.select(\"index\", \"idf\").show(truncate=False)"
   ]
  },
  {
   "cell_type": "code",
   "execution_count": 34,
   "metadata": {},
   "outputs": [],
   "source": [
    "spark.stop()"
   ]
  },
  {
   "cell_type": "code",
   "execution_count": null,
   "metadata": {},
   "outputs": [],
   "source": []
  }
 ],
 "metadata": {
  "kernelspec": {
   "display_name": "Python 3",
   "language": "python",
   "name": "python3"
  },
  "language_info": {
   "codemirror_mode": {
    "name": "ipython",
    "version": 3
   },
   "file_extension": ".py",
   "mimetype": "text/x-python",
   "name": "python",
   "nbconvert_exporter": "python",
   "pygments_lexer": "ipython3",
   "version": "3.7.6"
  }
 },
 "nbformat": 4,
 "nbformat_minor": 4
}
