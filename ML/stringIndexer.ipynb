{
 "cells": [
  {
   "cell_type": "code",
   "execution_count": 1,
   "metadata": {},
   "outputs": [],
   "source": [
    "from __future__ import print_function\n",
    "import findspark\n",
    "findspark.init()\n",
    "findspark.find()\n",
    "import pyspark\n",
    "findspark.find()\n",
    "from pyspark.sql import SparkSession\n",
    "from pyspark.ml.feature import StringIndexer"
   ]
  },
  {
   "cell_type": "code",
   "execution_count": 2,
   "metadata": {},
   "outputs": [],
   "source": [
    "if __name__ == \"__main__\":\n",
    "    spark = SparkSession\\\n",
    "        .builder\\\n",
    "        .appName(\"StringIndexer\")\\\n",
    "        .getOrCreate()"
   ]
  },
  {
   "cell_type": "code",
   "execution_count": 3,
   "metadata": {},
   "outputs": [],
   "source": [
    "# to create a dataframe \n",
    "data = spark.createDataFrame([\n",
    "        (0,\"Good\"),\n",
    "        (1,\"Bad\"),\n",
    "        (2,\"Good\"),\n",
    "        (3,\"Good\"),\n",
    "        (4,\"Bad\"),\n",
    "        (5,\"Good\")\n",
    "    ], [\"id\",\"category1\"])"
   ]
  },
  {
   "cell_type": "code",
   "execution_count": 4,
   "metadata": {},
   "outputs": [
    {
     "name": "stdout",
     "output_type": "stream",
     "text": [
      "+---+---------+\n",
      "| id|category1|\n",
      "+---+---------+\n",
      "|  0|     Good|\n",
      "|  1|      Bad|\n",
      "|  2|     Good|\n",
      "|  3|     Good|\n",
      "|  4|      Bad|\n",
      "|  5|     Good|\n",
      "+---+---------+\n",
      "\n"
     ]
    }
   ],
   "source": [
    "data.show()"
   ]
  },
  {
   "cell_type": "code",
   "execution_count": 5,
   "metadata": {},
   "outputs": [],
   "source": [
    "indexer = StringIndexer(inputCol=\"category1\", outputCol=\"category_index\")"
   ]
  },
  {
   "cell_type": "code",
   "execution_count": 6,
   "metadata": {},
   "outputs": [
    {
     "name": "stdout",
     "output_type": "stream",
     "text": [
      "+---+---------+--------------+\n",
      "| id|category1|category_index|\n",
      "+---+---------+--------------+\n",
      "|  0|     Good|           0.0|\n",
      "|  1|      Bad|           1.0|\n",
      "|  2|     Good|           0.0|\n",
      "|  3|     Good|           0.0|\n",
      "|  4|      Bad|           1.0|\n",
      "|  5|     Good|           0.0|\n",
      "+---+---------+--------------+\n",
      "\n"
     ]
    }
   ],
   "source": [
    "indexed = indexer.fit(data).transform(data)\n",
    "indexed.show()"
   ]
  },
  {
   "cell_type": "code",
   "execution_count": 7,
   "metadata": {},
   "outputs": [],
   "source": [
    "spark.stop()"
   ]
  },
  {
   "cell_type": "code",
   "execution_count": null,
   "metadata": {},
   "outputs": [],
   "source": []
  }
 ],
 "metadata": {
  "kernelspec": {
   "display_name": "Python 3",
   "language": "python",
   "name": "python3"
  },
  "language_info": {
   "codemirror_mode": {
    "name": "ipython",
    "version": 3
   },
   "file_extension": ".py",
   "mimetype": "text/x-python",
   "name": "python",
   "nbconvert_exporter": "python",
   "pygments_lexer": "ipython3",
   "version": "3.7.6"
  }
 },
 "nbformat": 4,
 "nbformat_minor": 4
}
