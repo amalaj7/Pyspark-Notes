{
 "cells": [
  {
   "cell_type": "code",
   "execution_count": 1,
   "metadata": {},
   "outputs": [],
   "source": [
    "from __future__ import print_function\n",
    "import findspark\n",
    "findspark.init()\n",
    "findspark.find()\n",
    "import pyspark\n",
    "findspark.find()\n",
    "from pyspark.sql import SparkSession\n",
    "from pyspark.ml.feature import VectorAssembler\n",
    "from pyspark.ml.classification import LogisticRegression\n",
    "from pyspark.ml.feature import StandardScaler\n",
    "from pyspark.mllib.evaluation import BinaryClassificationMetrics"
   ]
  },
  {
   "cell_type": "code",
   "execution_count": 2,
   "metadata": {},
   "outputs": [],
   "source": [
    "if __name__ == \"__main__\":\n",
    "    spark = SparkSession\\\n",
    "        .builder\\\n",
    "        .appName(\"Practice\")\\\n",
    "        .getOrCreate()"
   ]
  },
  {
   "cell_type": "code",
   "execution_count": 3,
   "metadata": {},
   "outputs": [
    {
     "data": {
      "text/plain": [
       "'3.0.2'"
      ]
     },
     "execution_count": 3,
     "metadata": {},
     "output_type": "execute_result"
    }
   ],
   "source": [
    "spark.version   "
   ]
  },
  {
   "cell_type": "code",
   "execution_count": 4,
   "metadata": {},
   "outputs": [
    {
     "name": "stdout",
     "output_type": "stream",
     "text": [
      "+---------+-----------+-----------------+----+----+----+--------+---------------+\n",
      "|GRE Score|TOEFL Score|University Rating| SOP| LOR|CGPA|Research|Chance of Admit|\n",
      "+---------+-----------+-----------------+----+----+----+--------+---------------+\n",
      "|   337.00|     118.00|                4|4.50|4.50|9.65|    1.00|           0.92|\n",
      "|   324.00|     107.00|                4|4.00|4.50|8.87|    1.00|           0.76|\n",
      "|     null|     104.00|                3|3.00|3.50|8.00|    1.00|           0.72|\n",
      "|   322.00|     110.00|                3|3.50|2.50|8.67|    1.00|           0.80|\n",
      "|   314.00|     103.00|                2|2.00|3.00|8.21|    0.00|           0.65|\n",
      "|   330.00|     115.00|                5|4.50|3.00|9.34|    1.00|           0.90|\n",
      "|   321.00|     109.00|             null|3.00|4.00|8.20|    1.00|           0.75|\n",
      "|   308.00|     101.00|                2|3.00|4.00|7.90|    0.00|           0.68|\n",
      "|   302.00|     102.00|                1|2.00|1.50|8.00|    0.00|           0.50|\n",
      "|   323.00|     108.00|                3|3.50|3.00|8.60|    0.00|           0.45|\n",
      "|   325.00|     106.00|                3|3.50|4.00|8.40|    1.00|           0.52|\n",
      "|   327.00|     111.00|                4|4.00|4.50|9.00|    1.00|           0.84|\n",
      "|     null|     112.00|                4|4.00|4.50|9.10|    1.00|           0.78|\n",
      "|   307.00|     109.00|                3|4.00|3.00|8.00|    1.00|           0.62|\n",
      "|   311.00|     104.00|                3|3.50|2.00|8.20|    1.00|           0.61|\n",
      "|   314.00|     105.00|                3|3.50|2.50|8.30|    0.00|           0.54|\n",
      "|   317.00|     107.00|                3|4.00|3.00|8.70|    0.00|           0.66|\n",
      "|   319.00|     106.00|                3|4.00|3.00|8.00|    1.00|           0.65|\n",
      "|   318.00|     110.00|                3|4.00|3.00|8.80|    0.00|           0.63|\n",
      "|   303.00|     102.00|                3|3.50|3.00|8.50|    0.00|           0.62|\n",
      "+---------+-----------+-----------------+----+----+----+--------+---------------+\n",
      "only showing top 20 rows\n",
      "\n"
     ]
    }
   ],
   "source": [
    "df = spark.read.csv('Admission_Prediction.csv',header=True)\n",
    "df.show()"
   ]
  },
  {
   "cell_type": "code",
   "execution_count": 5,
   "metadata": {},
   "outputs": [
    {
     "data": {
      "text/plain": [
       "pyspark.sql.dataframe.DataFrame"
      ]
     },
     "execution_count": 5,
     "metadata": {},
     "output_type": "execute_result"
    }
   ],
   "source": [
    "type(df)"
   ]
  },
  {
   "cell_type": "code",
   "execution_count": 6,
   "metadata": {},
   "outputs": [],
   "source": [
    "from pyspark.sql.functions import col, count, isnan, when"
   ]
  },
  {
   "cell_type": "code",
   "execution_count": 7,
   "metadata": {},
   "outputs": [
    {
     "name": "stdout",
     "output_type": "stream",
     "text": [
      "+---------+\n",
      "|GRE Score|\n",
      "+---------+\n",
      "|   337.00|\n",
      "|   324.00|\n",
      "|     null|\n",
      "|   322.00|\n",
      "|   314.00|\n",
      "|   330.00|\n",
      "|   321.00|\n",
      "|   308.00|\n",
      "|   302.00|\n",
      "|   323.00|\n",
      "+---------+\n",
      "only showing top 10 rows\n",
      "\n"
     ]
    }
   ],
   "source": [
    "# show 10 entries of GRE Score column\n",
    "df.select(\"GRE Score\").show(10)  # sql commands"
   ]
  },
  {
   "cell_type": "code",
   "execution_count": 8,
   "metadata": {},
   "outputs": [
    {
     "name": "stdout",
     "output_type": "stream",
     "text": [
      "+-----------+-----------------+----+----+----+\n",
      "|TOEFL Score|University Rating| SOP| LOR|CGPA|\n",
      "+-----------+-----------------+----+----+----+\n",
      "|     118.00|                4|4.50|4.50|9.65|\n",
      "|     107.00|                4|4.00|4.50|8.87|\n",
      "|     104.00|                3|3.00|3.50|8.00|\n",
      "|     110.00|                3|3.50|2.50|8.67|\n",
      "|     103.00|                2|2.00|3.00|8.21|\n",
      "|     115.00|                5|4.50|3.00|9.34|\n",
      "|     109.00|             null|3.00|4.00|8.20|\n",
      "|     101.00|                2|3.00|4.00|7.90|\n",
      "|     102.00|                1|2.00|1.50|8.00|\n",
      "|     108.00|                3|3.50|3.00|8.60|\n",
      "+-----------+-----------------+----+----+----+\n",
      "only showing top 10 rows\n",
      "\n"
     ]
    }
   ],
   "source": [
    "df.select(\"TOEFL Score\",\"University Rating\", \"SOP\", \"LOR\",\"CGPA\").show(10)"
   ]
  },
  {
   "cell_type": "code",
   "execution_count": 9,
   "metadata": {},
   "outputs": [
    {
     "name": "stdout",
     "output_type": "stream",
     "text": [
      "+----+--------------------------------------+\n",
      "| SOP|CASE WHEN (SOP <= 3) THEN 0 ELSE 1 END|\n",
      "+----+--------------------------------------+\n",
      "|4.50|                                     1|\n",
      "|4.00|                                     1|\n",
      "|3.00|                                     0|\n",
      "|3.50|                                     0|\n",
      "|2.00|                                     0|\n",
      "|4.50|                                     1|\n",
      "|3.00|                                     0|\n",
      "|3.00|                                     0|\n",
      "|2.00|                                     0|\n",
      "|3.50|                                     0|\n",
      "+----+--------------------------------------+\n",
      "only showing top 10 rows\n",
      "\n"
     ]
    }
   ],
   "source": [
    "# Show SOP and assign 0 or 1 depending on SOP\n",
    "df.select(\"SOP\",when(df.SOP<= 3, \n",
    "0).otherwise(1)).show(10)"
   ]
  },
  {
   "cell_type": "code",
   "execution_count": 10,
   "metadata": {},
   "outputs": [
    {
     "name": "stdout",
     "output_type": "stream",
     "text": [
      "+---------+-----------+-----------------+----+----+----+--------+---------------+\n",
      "|GRE Score|TOEFL Score|University Rating| SOP| LOR|CGPA|Research|Chance of Admit|\n",
      "+---------+-----------+-----------------+----+----+----+--------+---------------+\n",
      "|   337.00|     118.00|                4|4.50|4.50|9.65|    1.00|           0.92|\n",
      "+---------+-----------+-----------------+----+----+----+--------+---------------+\n",
      "\n"
     ]
    }
   ],
   "source": [
    "# Show rows with specified authors if in the given options\n",
    "df [df.CGPA.isin(\"9.65\")].show(100)"
   ]
  },
  {
   "cell_type": "code",
   "execution_count": 11,
   "metadata": {},
   "outputs": [
    {
     "name": "stdout",
     "output_type": "stream",
     "text": [
      "+----+------------------------------------------------------------+\n",
      "|CGPA|CASE WHEN (CGPA >= 9) THEN Extraordinary ELSE Good marks END|\n",
      "+----+------------------------------------------------------------+\n",
      "|9.65|                                               Extraordinary|\n",
      "|8.87|                                                  Good marks|\n",
      "|8.00|                                                  Good marks|\n",
      "|8.67|                                                  Good marks|\n",
      "|8.21|                                                  Good marks|\n",
      "|9.34|                                               Extraordinary|\n",
      "|8.20|                                                  Good marks|\n",
      "|7.90|                                                  Good marks|\n",
      "|8.00|                                                  Good marks|\n",
      "|8.60|                                                  Good marks|\n",
      "+----+------------------------------------------------------------+\n",
      "only showing top 10 rows\n",
      "\n"
     ]
    }
   ],
   "source": [
    "df.select(\"CGPA\",when(df.CGPA>=9,\"Extraordinary\").otherwise(\"Good marks\")).show(10)"
   ]
  },
  {
   "cell_type": "markdown",
   "metadata": {},
   "source": [
    "In the brackets of “Like” function, % character is used to filter out all LOR having “ 4 ” word. If the condition we are looking for is the exact match, then no % character shall be used."
   ]
  },
  {
   "cell_type": "code",
   "execution_count": 12,
   "metadata": {},
   "outputs": [
    {
     "name": "stdout",
     "output_type": "stream",
     "text": [
      "+----+---------------+\n",
      "| LOR|LOR LIKE %4.00%|\n",
      "+----+---------------+\n",
      "|4.50|          false|\n",
      "|4.50|          false|\n",
      "|3.50|          false|\n",
      "|2.50|          false|\n",
      "|3.00|          false|\n",
      "|3.00|          false|\n",
      "|4.00|           true|\n",
      "|4.00|           true|\n",
      "|1.50|          false|\n",
      "|3.00|          false|\n",
      "|4.00|           true|\n",
      "|4.50|          false|\n",
      "|4.50|          false|\n",
      "|3.00|          false|\n",
      "|2.00|          false|\n",
      "+----+---------------+\n",
      "only showing top 15 rows\n",
      "\n"
     ]
    }
   ],
   "source": [
    "# Show LOR is TRUE if LOR has 4.00\n",
    "df.select(\"LOR\",\n",
    "df.LOR.like(\"%4.00%\")).show(15)"
   ]
  },
  {
   "cell_type": "markdown",
   "metadata": {},
   "source": [
    "StartsWith scans from the beginning of word/content with specified criteria in the brackets. In parallel, EndsWith processes the word/content starting from the end. Both of the functions are case sensitive."
   ]
  },
  {
   "cell_type": "code",
   "execution_count": 13,
   "metadata": {},
   "outputs": [
    {
     "name": "stdout",
     "output_type": "stream",
     "text": [
      "+----+------------------+\n",
      "| LOR|startswith(LOR, 4)|\n",
      "+----+------------------+\n",
      "|4.50|              true|\n",
      "|4.50|              true|\n",
      "|3.50|             false|\n",
      "|2.50|             false|\n",
      "|3.00|             false|\n",
      "+----+------------------+\n",
      "only showing top 5 rows\n",
      "\n"
     ]
    }
   ],
   "source": [
    "df.select(\"LOR\", df.LOR.startswith(\"4\")).show(5)"
   ]
  },
  {
   "cell_type": "code",
   "execution_count": 14,
   "metadata": {},
   "outputs": [
    {
     "name": "stdout",
     "output_type": "stream",
     "text": [
      "+----+------------------+\n",
      "| LOR|endswith(LOR, .00)|\n",
      "+----+------------------+\n",
      "|4.50|             false|\n",
      "|4.50|             false|\n",
      "|3.50|             false|\n",
      "|2.50|             false|\n",
      "|3.00|              true|\n",
      "+----+------------------+\n",
      "only showing top 5 rows\n",
      "\n"
     ]
    }
   ],
   "source": [
    "df.select(\"LOR\", df.LOR.endswith(\".00\")).show(5)"
   ]
  },
  {
   "cell_type": "code",
   "execution_count": 15,
   "metadata": {},
   "outputs": [],
   "source": [
    "import pyspark.sql.functions as F\n",
    "df= df.withColumn(\"LOR2\", 2*F.col(\"LOR\")) # create new column with 2*LOR"
   ]
  },
  {
   "cell_type": "code",
   "execution_count": 16,
   "metadata": {},
   "outputs": [
    {
     "name": "stdout",
     "output_type": "stream",
     "text": [
      "+---------+-----------+-----------------+----+----+----+--------+---------------+----+\n",
      "|GRE Score|TOEFL Score|University Rating| SOP| LOR|CGPA|Research|Chance of Admit|LOR2|\n",
      "+---------+-----------+-----------------+----+----+----+--------+---------------+----+\n",
      "|   337.00|     118.00|                4|4.50|4.50|9.65|    1.00|           0.92| 9.0|\n",
      "|   324.00|     107.00|                4|4.00|4.50|8.87|    1.00|           0.76| 9.0|\n",
      "|     null|     104.00|                3|3.00|3.50|8.00|    1.00|           0.72| 7.0|\n",
      "|   322.00|     110.00|                3|3.50|2.50|8.67|    1.00|           0.80| 5.0|\n",
      "|   314.00|     103.00|                2|2.00|3.00|8.21|    0.00|           0.65| 6.0|\n",
      "|   330.00|     115.00|                5|4.50|3.00|9.34|    1.00|           0.90| 6.0|\n",
      "|   321.00|     109.00|             null|3.00|4.00|8.20|    1.00|           0.75| 8.0|\n",
      "|   308.00|     101.00|                2|3.00|4.00|7.90|    0.00|           0.68| 8.0|\n",
      "|   302.00|     102.00|                1|2.00|1.50|8.00|    0.00|           0.50| 3.0|\n",
      "|   323.00|     108.00|                3|3.50|3.00|8.60|    0.00|           0.45| 6.0|\n",
      "|   325.00|     106.00|                3|3.50|4.00|8.40|    1.00|           0.52| 8.0|\n",
      "|   327.00|     111.00|                4|4.00|4.50|9.00|    1.00|           0.84| 9.0|\n",
      "|     null|     112.00|                4|4.00|4.50|9.10|    1.00|           0.78| 9.0|\n",
      "|   307.00|     109.00|                3|4.00|3.00|8.00|    1.00|           0.62| 6.0|\n",
      "|   311.00|     104.00|                3|3.50|2.00|8.20|    1.00|           0.61| 4.0|\n",
      "|   314.00|     105.00|                3|3.50|2.50|8.30|    0.00|           0.54| 5.0|\n",
      "|   317.00|     107.00|                3|4.00|3.00|8.70|    0.00|           0.66| 6.0|\n",
      "|   319.00|     106.00|                3|4.00|3.00|8.00|    1.00|           0.65| 6.0|\n",
      "|   318.00|     110.00|                3|4.00|3.00|8.80|    0.00|           0.63| 6.0|\n",
      "|   303.00|     102.00|                3|3.50|3.00|8.50|    0.00|           0.62| 6.0|\n",
      "+---------+-----------+-----------------+----+----+----+--------+---------------+----+\n",
      "only showing top 20 rows\n",
      "\n"
     ]
    }
   ],
   "source": [
    "df.show()"
   ]
  },
  {
   "cell_type": "code",
   "execution_count": 17,
   "metadata": {},
   "outputs": [],
   "source": [
    "df = df.drop(\"LOR2\") # to drop the column"
   ]
  },
  {
   "cell_type": "code",
   "execution_count": 18,
   "metadata": {},
   "outputs": [
    {
     "name": "stdout",
     "output_type": "stream",
     "text": [
      "+---------+-----------+-----------------+----+----+----+--------+---------------+\n",
      "|GRE Score|TOEFL Score|University Rating| SOP| LOR|CGPA|Research|Chance of Admit|\n",
      "+---------+-----------+-----------------+----+----+----+--------+---------------+\n",
      "|   337.00|     118.00|                4|4.50|4.50|9.65|    1.00|           0.92|\n",
      "|   324.00|     107.00|                4|4.00|4.50|8.87|    1.00|           0.76|\n",
      "|     null|     104.00|                3|3.00|3.50|8.00|    1.00|           0.72|\n",
      "|   322.00|     110.00|                3|3.50|2.50|8.67|    1.00|           0.80|\n",
      "|   314.00|     103.00|                2|2.00|3.00|8.21|    0.00|           0.65|\n",
      "|   330.00|     115.00|                5|4.50|3.00|9.34|    1.00|           0.90|\n",
      "|   321.00|     109.00|             null|3.00|4.00|8.20|    1.00|           0.75|\n",
      "|   308.00|     101.00|                2|3.00|4.00|7.90|    0.00|           0.68|\n",
      "|   302.00|     102.00|                1|2.00|1.50|8.00|    0.00|           0.50|\n",
      "|   323.00|     108.00|                3|3.50|3.00|8.60|    0.00|           0.45|\n",
      "|   325.00|     106.00|                3|3.50|4.00|8.40|    1.00|           0.52|\n",
      "|   327.00|     111.00|                4|4.00|4.50|9.00|    1.00|           0.84|\n",
      "|     null|     112.00|                4|4.00|4.50|9.10|    1.00|           0.78|\n",
      "|   307.00|     109.00|                3|4.00|3.00|8.00|    1.00|           0.62|\n",
      "|   311.00|     104.00|                3|3.50|2.00|8.20|    1.00|           0.61|\n",
      "|   314.00|     105.00|                3|3.50|2.50|8.30|    0.00|           0.54|\n",
      "|   317.00|     107.00|                3|4.00|3.00|8.70|    0.00|           0.66|\n",
      "|   319.00|     106.00|                3|4.00|3.00|8.00|    1.00|           0.65|\n",
      "|   318.00|     110.00|                3|4.00|3.00|8.80|    0.00|           0.63|\n",
      "|   303.00|     102.00|                3|3.50|3.00|8.50|    0.00|           0.62|\n",
      "+---------+-----------+-----------------+----+----+----+--------+---------------+\n",
      "only showing top 20 rows\n",
      "\n"
     ]
    }
   ],
   "source": [
    "df.show()"
   ]
  },
  {
   "cell_type": "code",
   "execution_count": 19,
   "metadata": {},
   "outputs": [
    {
     "name": "stdout",
     "output_type": "stream",
     "text": [
      "root\n",
      " |-- GRE Score: string (nullable = true)\n",
      " |-- TOEFL Score: string (nullable = true)\n",
      " |-- University Rating: string (nullable = true)\n",
      " |-- SOP: string (nullable = true)\n",
      " |-- LOR: string (nullable = true)\n",
      " |-- CGPA: string (nullable = true)\n",
      " |-- Research: string (nullable = true)\n",
      " |-- Chance of Admit: string (nullable = true)\n",
      "\n"
     ]
    }
   ],
   "source": [
    "df.printSchema()"
   ]
  },
  {
   "cell_type": "code",
   "execution_count": 20,
   "metadata": {},
   "outputs": [],
   "source": [
    "from pyspark.sql.functions import col\n",
    "df = df.select(*(col(c).cast(\"float\").alias(c) for c in df.columns)) # convert to float "
   ]
  },
  {
   "cell_type": "code",
   "execution_count": 21,
   "metadata": {},
   "outputs": [
    {
     "name": "stdout",
     "output_type": "stream",
     "text": [
      "root\n",
      " |-- GRE Score: float (nullable = true)\n",
      " |-- TOEFL Score: float (nullable = true)\n",
      " |-- University Rating: float (nullable = true)\n",
      " |-- SOP: float (nullable = true)\n",
      " |-- LOR: float (nullable = true)\n",
      " |-- CGPA: float (nullable = true)\n",
      " |-- Research: float (nullable = true)\n",
      " |-- Chance of Admit: float (nullable = true)\n",
      "\n"
     ]
    }
   ],
   "source": [
    "df.printSchema()"
   ]
  },
  {
   "cell_type": "code",
   "execution_count": 22,
   "metadata": {},
   "outputs": [
    {
     "name": "stdout",
     "output_type": "stream",
     "text": [
      "+---------+-----------+-----------------+---+---+----+--------+---------------+\n",
      "|GRE Score|TOEFL Score|University Rating|SOP|LOR|CGPA|Research|Chance of Admit|\n",
      "+---------+-----------+-----------------+---+---+----+--------+---------------+\n",
      "|       15|         10|               15|  0|  0|   0|       0|              0|\n",
      "+---------+-----------+-----------------+---+---+----+--------+---------------+\n",
      "\n"
     ]
    }
   ],
   "source": [
    "#checking for null ir nan type values in our columns\n",
    "df.select([count(when(col(c).isNull(), c)).alias(c) for c in df.columns]).show()"
   ]
  },
  {
   "cell_type": "code",
   "execution_count": 23,
   "metadata": {},
   "outputs": [
    {
     "name": "stdout",
     "output_type": "stream",
     "text": [
      "+---------+-----------+-----------------+---+---+----+--------+---------------+\n",
      "|GRE Score|TOEFL Score|University Rating|SOP|LOR|CGPA|Research|Chance of Admit|\n",
      "+---------+-----------+-----------------+---+---+----+--------+---------------+\n",
      "|        0|          0|                0|  0|  0|   0|       0|              0|\n",
      "+---------+-----------+-----------------+---+---+----+--------+---------------+\n",
      "\n"
     ]
    }
   ],
   "source": [
    "df = df.fillna(0) # replace it with zero\n",
    "df.select([count(when(col(c).isNull(), c)).alias(c) for c in df.columns]).show()"
   ]
  }
 ],
 "metadata": {
  "kernelspec": {
   "display_name": "Python 3",
   "language": "python",
   "name": "python3"
  },
  "language_info": {
   "codemirror_mode": {
    "name": "ipython",
    "version": 3
   },
   "file_extension": ".py",
   "mimetype": "text/x-python",
   "name": "python",
   "nbconvert_exporter": "python",
   "pygments_lexer": "ipython3",
   "version": "3.7.6"
  }
 },
 "nbformat": 4,
 "nbformat_minor": 4
}
