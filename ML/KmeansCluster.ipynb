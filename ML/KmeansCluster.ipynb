{
 "cells": [
  {
   "cell_type": "code",
   "execution_count": 1,
   "metadata": {},
   "outputs": [],
   "source": [
    "import random as pyrandom\n",
    "import matplotlib\n",
    "matplotlib.rc(\"image\",cmap=\"gray\")\n",
    "import pandas as pd\n"
   ]
  },
  {
   "cell_type": "code",
   "execution_count": 2,
   "metadata": {},
   "outputs": [],
   "source": [
    "from __future__ import print_function\n",
    "import findspark\n",
    "findspark.init()\n",
    "findspark.find()\n",
    "import pyspark\n",
    "findspark.find()\n",
    "from pyspark.sql import SparkSession\n",
    "from pyspark.ml.feature import VectorAssembler\n",
    "from pyspark.ml.clustering import KMeans, KMeansModel"
   ]
  },
  {
   "cell_type": "code",
   "execution_count": 3,
   "metadata": {},
   "outputs": [],
   "source": [
    "if __name__ == \"__main__\":\n",
    "    spark = SparkSession\\\n",
    "        .builder\\\n",
    "        .appName(\"kMeansWithSpark\")\\\n",
    "        .getOrCreate()"
   ]
  },
  {
   "cell_type": "code",
   "execution_count": 16,
   "metadata": {},
   "outputs": [],
   "source": [
    "# let's create a random dataset which we will use to write cluster algo with spark"
   ]
  },
  {
   "cell_type": "code",
   "execution_count": 17,
   "metadata": {},
   "outputs": [],
   "source": [
    "df = spark.createDataFrame([[ 45.3, -17.5],\n",
    "                              [ 42.4, -12.5],\n",
    "                              [28., -23.9],\n",
    "                              [29.5, -19.0],\n",
    "                              [32.8, -18.84],\n",
    "                            [23.8, -16.45],\n",
    "                            [22.3, -15.54],\n",
    "                            [12.8, -13.84]\n",
    "                             ],\n",
    "                              [\"x\", \"y\"])"
   ]
  },
  {
   "cell_type": "code",
   "execution_count": 18,
   "metadata": {},
   "outputs": [
    {
     "name": "stdout",
     "output_type": "stream",
     "text": [
      "+----+------+\n",
      "|   x|     y|\n",
      "+----+------+\n",
      "|45.3| -17.5|\n",
      "|42.4| -12.5|\n",
      "|28.0| -23.9|\n",
      "|29.5| -19.0|\n",
      "|32.8|-18.84|\n",
      "|23.8|-16.45|\n",
      "|22.3|-15.54|\n",
      "|12.8|-13.84|\n",
      "+----+------+\n",
      "\n"
     ]
    }
   ],
   "source": [
    "df.show()"
   ]
  },
  {
   "cell_type": "code",
   "execution_count": 19,
   "metadata": {},
   "outputs": [
    {
     "name": "stdout",
     "output_type": "stream",
     "text": [
      "+----+------+-------------+\n",
      "|   x|     y|     features|\n",
      "+----+------+-------------+\n",
      "|45.3| -17.5| [45.3,-17.5]|\n",
      "|42.4| -12.5| [42.4,-12.5]|\n",
      "|28.0| -23.9| [28.0,-23.9]|\n",
      "|29.5| -19.0| [29.5,-19.0]|\n",
      "|32.8|-18.84|[32.8,-18.84]|\n",
      "|23.8|-16.45|[23.8,-16.45]|\n",
      "|22.3|-15.54|[22.3,-15.54]|\n",
      "|12.8|-13.84|[12.8,-13.84]|\n",
      "+----+------+-------------+\n",
      "\n"
     ]
    }
   ],
   "source": [
    "vecAssembler = VectorAssembler(inputCols=[\"x\", \"y\"], outputCol=\"features\")\n",
    "new_df = vecAssembler.transform(df)\n",
    "new_df.show()"
   ]
  },
  {
   "cell_type": "code",
   "execution_count": 20,
   "metadata": {},
   "outputs": [],
   "source": [
    "# Train a k-means model.\n",
    "kmeans = KMeans().setK(2).setSeed(1)\n",
    "model = kmeans.fit(new_df.select('features'))"
   ]
  },
  {
   "cell_type": "code",
   "execution_count": 21,
   "metadata": {},
   "outputs": [
    {
     "name": "stdout",
     "output_type": "stream",
     "text": [
      "+----+------+-------------+----------+\n",
      "|   x|     y|     features|prediction|\n",
      "+----+------+-------------+----------+\n",
      "|45.3| -17.5| [45.3,-17.5]|         0|\n",
      "|42.4| -12.5| [42.4,-12.5]|         0|\n",
      "|28.0| -23.9| [28.0,-23.9]|         1|\n",
      "|29.5| -19.0| [29.5,-19.0]|         1|\n",
      "|32.8|-18.84|[32.8,-18.84]|         1|\n",
      "|23.8|-16.45|[23.8,-16.45]|         1|\n",
      "|22.3|-15.54|[22.3,-15.54]|         1|\n",
      "|12.8|-13.84|[12.8,-13.84]|         1|\n",
      "+----+------+-------------+----------+\n",
      "\n"
     ]
    }
   ],
   "source": [
    "# Make predictions\n",
    "predictions = model.transform(new_df)\n",
    "predictions.show()"
   ]
  },
  {
   "cell_type": "code",
   "execution_count": null,
   "metadata": {},
   "outputs": [],
   "source": []
  },
  {
   "cell_type": "code",
   "execution_count": null,
   "metadata": {},
   "outputs": [],
   "source": []
  }
 ],
 "metadata": {
  "kernelspec": {
   "display_name": "Python 3",
   "language": "python",
   "name": "python3"
  },
  "language_info": {
   "codemirror_mode": {
    "name": "ipython",
    "version": 3
   },
   "file_extension": ".py",
   "mimetype": "text/x-python",
   "name": "python",
   "nbconvert_exporter": "python",
   "pygments_lexer": "ipython3",
   "version": "3.7.6"
  }
 },
 "nbformat": 4,
 "nbformat_minor": 4
}
