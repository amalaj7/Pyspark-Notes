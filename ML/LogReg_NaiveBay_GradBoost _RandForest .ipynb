{
 "cells": [
  {
   "cell_type": "code",
   "execution_count": 13,
   "metadata": {},
   "outputs": [],
   "source": [
    "import findspark\n",
    "findspark.init()\n",
    "findspark.find()\n",
    "from pyspark.sql import SparkSession\n",
    "\n",
    "from pyspark.ml.feature import VectorAssembler\n",
    "from pyspark.ml.feature import StandardScaler\n",
    "\n",
    "from pyspark.ml.classification import LogisticRegression\n",
    "from pyspark.ml.classification import NaiveBayes\n",
    "from pyspark.ml.classification import GBTClassifier\n",
    "from pyspark.ml.classification import RandomForestClassifier # ml - dataframe\n",
    "\n",
    "from pyspark.mllib.evaluation import BinaryClassificationMetrics # mllib - rdd\n",
    "from pyspark.ml.evaluation import MulticlassClassificationEvaluator"
   ]
  },
  {
   "cell_type": "code",
   "execution_count": 14,
   "metadata": {},
   "outputs": [],
   "source": [
    "spark = SparkSession.builder.appName(\"Classification with Spark\").getOrCreate()"
   ]
  },
  {
   "cell_type": "code",
   "execution_count": 15,
   "metadata": {},
   "outputs": [],
   "source": [
    "dataset = spark.read.csv(\"diabetes.csv\",header=True)"
   ]
  },
  {
   "cell_type": "code",
   "execution_count": 8,
   "metadata": {},
   "outputs": [
    {
     "name": "stdout",
     "output_type": "stream",
     "text": [
      "+-----------+-------+-------------+-------------+-------+----+------------------------+---+-------+\n",
      "|Pregnancies|Glucose|BloodPressure|SkinThickness|Insulin| BMI|DiabetesPedigreeFunction|Age|Outcome|\n",
      "+-----------+-------+-------------+-------------+-------+----+------------------------+---+-------+\n",
      "|          6|    148|           72|           35|      0|33.6|                   0.627| 50|      1|\n",
      "|          1|     85|           66|           29|      0|26.6|                   0.351| 31|      0|\n",
      "|          8|    183|           64|            0|      0|23.3|                   0.672| 32|      1|\n",
      "|          1|     89|           66|           23|     94|28.1|                   0.167| 21|      0|\n",
      "|          0|    137|           40|           35|    168|43.1|                   2.288| 33|      1|\n",
      "|          5|    116|           74|            0|      0|25.6|                   0.201| 30|      0|\n",
      "|          3|     78|           50|           32|     88|  31|                   0.248| 26|      1|\n",
      "|         10|    115|            0|            0|      0|35.3|                   0.134| 29|      0|\n",
      "|          2|    197|           70|           45|    543|30.5|                   0.158| 53|      1|\n",
      "|          8|    125|           96|            0|      0|   0|                   0.232| 54|      1|\n",
      "|          4|    110|           92|            0|      0|37.6|                   0.191| 30|      0|\n",
      "|         10|    168|           74|            0|      0|  38|                   0.537| 34|      1|\n",
      "|         10|    139|           80|            0|      0|27.1|                   1.441| 57|      0|\n",
      "|          1|    189|           60|           23|    846|30.1|                   0.398| 59|      1|\n",
      "|          5|    166|           72|           19|    175|25.8|                   0.587| 51|      1|\n",
      "|          7|    100|            0|            0|      0|  30|                   0.484| 32|      1|\n",
      "|          0|    118|           84|           47|    230|45.8|                   0.551| 31|      1|\n",
      "|          7|    107|           74|            0|      0|29.6|                   0.254| 31|      1|\n",
      "|          1|    103|           30|           38|     83|43.3|                   0.183| 33|      0|\n",
      "|          1|    115|           70|           30|     96|34.6|                   0.529| 32|      1|\n",
      "+-----------+-------+-------------+-------------+-------+----+------------------------+---+-------+\n",
      "only showing top 20 rows\n",
      "\n"
     ]
    }
   ],
   "source": [
    "dataset.show()"
   ]
  },
  {
   "cell_type": "code",
   "execution_count": 9,
   "metadata": {},
   "outputs": [
    {
     "name": "stdout",
     "output_type": "stream",
     "text": [
      "root\n",
      " |-- Pregnancies: string (nullable = true)\n",
      " |-- Glucose: string (nullable = true)\n",
      " |-- BloodPressure: string (nullable = true)\n",
      " |-- SkinThickness: string (nullable = true)\n",
      " |-- Insulin: string (nullable = true)\n",
      " |-- BMI: string (nullable = true)\n",
      " |-- DiabetesPedigreeFunction: string (nullable = true)\n",
      " |-- Age: string (nullable = true)\n",
      " |-- Outcome: string (nullable = true)\n",
      "\n"
     ]
    }
   ],
   "source": [
    "dataset.printSchema()"
   ]
  },
  {
   "cell_type": "code",
   "execution_count": 10,
   "metadata": {},
   "outputs": [],
   "source": [
    "from pyspark.sql.functions import col\n",
    "new_data = dataset.select(*(col(c).cast(\"float\").alias(c) for c in dataset.columns))"
   ]
  },
  {
   "cell_type": "code",
   "execution_count": 11,
   "metadata": {},
   "outputs": [
    {
     "name": "stdout",
     "output_type": "stream",
     "text": [
      "root\n",
      " |-- Pregnancies: float (nullable = true)\n",
      " |-- Glucose: float (nullable = true)\n",
      " |-- BloodPressure: float (nullable = true)\n",
      " |-- SkinThickness: float (nullable = true)\n",
      " |-- Insulin: float (nullable = true)\n",
      " |-- BMI: float (nullable = true)\n",
      " |-- DiabetesPedigreeFunction: float (nullable = true)\n",
      " |-- Age: float (nullable = true)\n",
      " |-- Outcome: float (nullable = true)\n",
      "\n"
     ]
    }
   ],
   "source": [
    "new_data.printSchema()"
   ]
  },
  {
   "cell_type": "code",
   "execution_count": 12,
   "metadata": {},
   "outputs": [
    {
     "name": "stdout",
     "output_type": "stream",
     "text": [
      "+-----------+-------+-------------+-------------+-------+---+------------------------+---+-------+\n",
      "|Pregnancies|Glucose|BloodPressure|SkinThickness|Insulin|BMI|DiabetesPedigreeFunction|Age|Outcome|\n",
      "+-----------+-------+-------------+-------------+-------+---+------------------------+---+-------+\n",
      "|          0|      0|            0|            0|      0|  0|                       0|  0|      0|\n",
      "+-----------+-------+-------------+-------------+-------+---+------------------------+---+-------+\n",
      "\n"
     ]
    }
   ],
   "source": [
    "from pyspark.sql.functions import col, count, isnan, when\n",
    "#checking for null ir nan type values in our columns\n",
    "new_data.select([count(when(col(c).isNull(), c)).alias(c) for c in new_data.columns]).show()"
   ]
  },
  {
   "cell_type": "code",
   "execution_count": 21,
   "metadata": {},
   "outputs": [
    {
     "name": "stdout",
     "output_type": "stream",
     "text": [
      "+-----------------------------------------------------------------------+-------+\n",
      "|features                                                               |Outcome|\n",
      "+-----------------------------------------------------------------------+-------+\n",
      "|[6.0,148.0,72.0,35.0,0.0,33.599998474121094,0.6269999742507935,50.0]   |1.0    |\n",
      "|[1.0,85.0,66.0,29.0,0.0,26.600000381469727,0.35100001096725464,31.0]   |0.0    |\n",
      "|[8.0,183.0,64.0,0.0,0.0,23.299999237060547,0.671999990940094,32.0]     |1.0    |\n",
      "|[1.0,89.0,66.0,23.0,94.0,28.100000381469727,0.16699999570846558,21.0]  |0.0    |\n",
      "|[0.0,137.0,40.0,35.0,168.0,43.099998474121094,2.2880001068115234,33.0] |1.0    |\n",
      "|[5.0,116.0,74.0,0.0,0.0,25.600000381469727,0.20100000500679016,30.0]   |0.0    |\n",
      "|[3.0,78.0,50.0,32.0,88.0,31.0,0.24799999594688416,26.0]                |1.0    |\n",
      "|[10.0,115.0,0.0,0.0,0.0,35.29999923706055,0.1340000033378601,29.0]     |0.0    |\n",
      "|[2.0,197.0,70.0,45.0,543.0,30.5,0.15800000727176666,53.0]              |1.0    |\n",
      "|[8.0,125.0,96.0,0.0,0.0,0.0,0.23199999332427979,54.0]                  |1.0    |\n",
      "|[4.0,110.0,92.0,0.0,0.0,37.599998474121094,0.19099999964237213,30.0]   |0.0    |\n",
      "|[10.0,168.0,74.0,0.0,0.0,38.0,0.5370000004768372,34.0]                 |1.0    |\n",
      "|[10.0,139.0,80.0,0.0,0.0,27.100000381469727,1.440999984741211,57.0]    |0.0    |\n",
      "|[1.0,189.0,60.0,23.0,846.0,30.100000381469727,0.39800000190734863,59.0]|1.0    |\n",
      "|[5.0,166.0,72.0,19.0,175.0,25.799999237060547,0.5870000123977661,51.0] |1.0    |\n",
      "|[7.0,100.0,0.0,0.0,0.0,30.0,0.48399999737739563,32.0]                  |1.0    |\n",
      "|[0.0,118.0,84.0,47.0,230.0,45.79999923706055,0.5509999990463257,31.0]  |1.0    |\n",
      "|[7.0,107.0,74.0,0.0,0.0,29.600000381469727,0.2540000081062317,31.0]    |1.0    |\n",
      "|[1.0,103.0,30.0,38.0,83.0,43.29999923706055,0.18299999833106995,33.0]  |0.0    |\n",
      "|[1.0,115.0,70.0,30.0,96.0,34.599998474121094,0.5289999842643738,32.0]  |1.0    |\n",
      "+-----------------------------------------------------------------------+-------+\n",
      "only showing top 20 rows\n",
      "\n"
     ]
    }
   ],
   "source": [
    "cols=new_data.columns\n",
    "cols.remove(\"Outcome\")\n",
    "assembler = VectorAssembler(inputCols=cols,outputCol=\"features\")\n",
    "# because in pyspark ml algo , it takes input as vectors or features\n",
    "# Now let us use the transform method to transform our dataset\n",
    "data=assembler.transform(new_data)\n",
    "\n",
    "data.select(\"features\",'Outcome').show(truncate=False) # list of features"
   ]
  },
  {
   "cell_type": "code",
   "execution_count": 22,
   "metadata": {},
   "outputs": [],
   "source": [
    "standardscaler=StandardScaler().setInputCol(\"features\").setOutputCol(\"Scaled_features\")\n",
    "data=standardscaler.fit(data).transform(data)"
   ]
  },
  {
   "cell_type": "code",
   "execution_count": 23,
   "metadata": {},
   "outputs": [
    {
     "name": "stdout",
     "output_type": "stream",
     "text": [
      "+-----------------------------------------------------------------------+-------+---------------------------------------------------------------------------------------------------------------------------------------------------------+\n",
      "|features                                                               |Outcome|Scaled_features                                                                                                                                          |\n",
      "+-----------------------------------------------------------------------+-------+---------------------------------------------------------------------------------------------------------------------------------------------------------+\n",
      "|[6.0,148.0,72.0,35.0,0.0,33.599998474121094,0.6269999742507935,50.0]   |1.0    |[1.7806383732194306,4.628960915766174,3.7198138711154307,2.1940523222807116,0.0,4.261709202425419,1.8923810993699686,4.251616970894646]                  |\n",
      "|[1.0,85.0,66.0,29.0,0.0,26.600000381469727,0.35100001096725464,31.0]   |0.0    |[0.29677306220323846,2.658524850271114,3.4098293818558116,1.8179290670325896,0.0,3.373853320188119,1.0593713140527197,2.6360025219546803]                |\n",
      "|[8.0,183.0,64.0,0.0,0.0,23.299999237060547,0.671999990940094,32.0]     |1.0    |[2.3741844976259077,5.723647618818986,3.306501218769272,0.0,0.0,2.955292430788826,2.028197980632078,2.721034861372573]                                   |\n",
      "|[1.0,89.0,66.0,23.0,94.0,28.100000381469727,0.16699999570846558,21.0]  |0.0    |[0.29677306220323846,2.783631902048578,3.4098293818558116,1.4418058117844677,0.8156606685129459,3.564108203936454,0.5040313372439763,1.785679127775751]  |\n",
      "|[0.0,137.0,40.0,35.0,168.0,43.099998474121094,2.2880001068115234,33.0] |1.0    |[0.0,4.284916523378148,2.0665632617307947,2.1940523222807116,1.4577765139380312,5.466656799498205,6.905531635244907,2.806067200790466]                   |\n",
      "|[5.0,116.0,74.0,0.0,0.0,25.600000381469727,0.20100000500679016,30.0]   |0.0    |[1.4838653110161923,3.628104501546461,3.823142034201971,0.0,0.0,3.247016731022563,0.6066485264255773,2.5509701825367874]                                 |\n",
      "|[3.0,78.0,50.0,32.0,88.0,31.0,0.24799999594688416,26.0]                |1.0    |[0.8903191866097153,2.4395875096605515,2.5832040771634937,2.0059906946566506,0.7635972215865877,3.9319342641322486,0.7485016335678398,2.210840824865216] |\n",
      "|[10.0,115.0,0.0,0.0,0.0,35.29999923706055,0.1340000033378601,29.0]     |0.0    |[2.9677306220323847,3.596827738602095,0.0,0.0,0.0,4.477331500775503,0.4044323509503849,2.4659378431188945]                                               |\n",
      "|[2.0,197.0,70.0,45.0,543.0,30.5,0.15800000727176666,53.0]              |1.0    |[0.5935461244064769,6.161522300040111,3.616485708028891,2.8209244143609147,4.711741946835422,3.8685159695494704,0.4768680059655209,4.5067139891483246]   |\n",
      "|[8.0,125.0,96.0,0.0,0.0,0.0,0.23199999332427979,54.0]                  |1.0    |[2.3741844976259077,3.9095953680457556,4.959751828153908,0.0,0.0,0.0,0.7002111968910825,4.5917463285662174]                                              |\n",
      "|[4.0,110.0,92.0,0.0,0.0,37.599998474121094,0.19099999964237213,30.0]   |0.0    |[1.1870922488129538,3.440443923880265,4.7530955019808285,0.0,0.0,4.7690555590876444,0.5764669922591124,2.5509701825367874]                               |\n",
      "|[10.0,168.0,74.0,0.0,0.0,38.0,0.5370000004768372,34.0]                 |1.0    |[2.9677306220323847,5.254496174653495,3.823142034201971,0.0,0.0,4.8197903882911435,1.6207475167416163,2.891099540208359]                                 |\n",
      "|[10.0,139.0,80.0,0.0,0.0,27.100000381469727,1.440999984741211,57.0]    |0.0    |[2.9677306220323847,4.34747004926688,4.1331265234615895,0.0,0.0,3.4372716147708973,4.349156694264776,4.846843346819896]                                  |\n",
      "|[1.0,189.0,60.0,23.0,846.0,30.100000381469727,0.39800000190734863,59.0]|1.0    |[0.29677306220323846,5.911308196485182,3.0998448925961926,1.4418058117844677,7.340946016616514,3.8177813822675666,1.201224421194982,5.016908025655682]   |\n",
      "|[5.0,166.0,72.0,19.0,175.0,25.799999237060547,0.5870000123977661,51.0] |1.0    |[1.4838653110161923,5.191942648764763,3.7198138711154307,1.1910569749523863,1.5185172020187825,3.272383903702717,1.7716551425999747,4.336649310312539]   |\n",
      "|[7.0,100.0,0.0,0.0,0.0,30.0,0.48399999737739563,32.0]                  |1.0    |[2.077411435422669,3.127676294436604,0.0,0.0,0.0,3.8050976749666923,1.4607854621150949,2.721034861372573]                                                |\n",
      "|[0.0,118.0,84.0,47.0,230.0,45.79999923706055,0.5509999990463257,31.0]  |1.0    |[0.0,3.6906580274351932,4.33978284963467,2.9462988327769555,1.9957654655103998,5.809115687013845,1.6630016375902872,2.6360025219546803]                  |\n",
      "|[7.0,107.0,74.0,0.0,0.0,29.600000381469727,0.2540000081062317,31.0]    |1.0    |[2.077411435422669,3.3466136350471665,3.823142034201971,0.0,0.0,3.7543630876847884,0.7666105810520987,2.6360025219546803]                                |\n",
      "|[1.0,103.0,30.0,38.0,83.0,43.29999923706055,0.18299999833106995,33.0]  |0.0    |[0.29677306220323846,3.2215065832697025,1.5499224462980963,2.3821139499047725,0.7202110158146225,5.4920242140999544,0.5523217739207337,2.806067200790466]|\n",
      "|[1.0,115.0,70.0,30.0,96.0,34.599998474121094,0.5289999842643738,32.0]  |1.0    |[0.29677306220323846,3.596827738602095,3.616485708028891,1.88061627624061,0.833015150821732,4.388545791590976,1.596602253429271,2.721034861372573]       |\n",
      "+-----------------------------------------------------------------------+-------+---------------------------------------------------------------------------------------------------------------------------------------------------------+\n",
      "only showing top 20 rows\n",
      "\n"
     ]
    }
   ],
   "source": [
    "data.select(\"features\",'Outcome','Scaled_features').show(truncate=False)"
   ]
  },
  {
   "cell_type": "code",
   "execution_count": 24,
   "metadata": {},
   "outputs": [
    {
     "name": "stdout",
     "output_type": "stream",
     "text": [
      "+--------------------+-------+\n",
      "|     Scaled_features|Outcome|\n",
      "+--------------------+-------+\n",
      "|[1.78063837321943...|    1.0|\n",
      "|[0.29677306220323...|    0.0|\n",
      "|[2.37418449762590...|    1.0|\n",
      "|[0.29677306220323...|    0.0|\n",
      "|[0.0,4.2849165233...|    1.0|\n",
      "|[1.48386531101619...|    0.0|\n",
      "|[0.89031918660971...|    1.0|\n",
      "|[2.96773062203238...|    0.0|\n",
      "|[0.59354612440647...|    1.0|\n",
      "|[2.37418449762590...|    1.0|\n",
      "|[1.18709224881295...|    0.0|\n",
      "|[2.96773062203238...|    1.0|\n",
      "|[2.96773062203238...|    0.0|\n",
      "|[0.29677306220323...|    1.0|\n",
      "|[1.48386531101619...|    1.0|\n",
      "|[2.07741143542266...|    1.0|\n",
      "|[0.0,3.6906580274...|    1.0|\n",
      "|[2.07741143542266...|    1.0|\n",
      "|[0.29677306220323...|    0.0|\n",
      "|[0.29677306220323...|    1.0|\n",
      "+--------------------+-------+\n",
      "only showing top 20 rows\n",
      "\n"
     ]
    }
   ],
   "source": [
    "assembled_data = data.select(\"Scaled_features\",\"Outcome\")\n",
    "assembled_data.show()"
   ]
  },
  {
   "cell_type": "code",
   "execution_count": 25,
   "metadata": {},
   "outputs": [],
   "source": [
    "train, test = assembled_data.randomSplit([0.7, 0.3])"
   ]
  },
  {
   "cell_type": "code",
   "execution_count": 26,
   "metadata": {},
   "outputs": [
    {
     "name": "stdout",
     "output_type": "stream",
     "text": [
      "+--------------------+-------+\n",
      "|     Scaled_features|Outcome|\n",
      "+--------------------+-------+\n",
      "|(8,[0,1,6,7],[0.5...|    0.0|\n",
      "|(8,[0,1,6,7],[0.8...|    0.0|\n",
      "|(8,[0,1,6,7],[2.0...|    0.0|\n",
      "|(8,[0,1,6,7],[2.9...|    1.0|\n",
      "|(8,[1,5,6,7],[2.2...|    0.0|\n",
      "|(8,[1,5,6,7],[3.0...|    0.0|\n",
      "|(8,[1,5,6,7],[3.6...|    0.0|\n",
      "|(8,[1,5,6,7],[4.4...|    1.0|\n",
      "|(8,[1,5,6,7],[4.5...|    1.0|\n",
      "|(8,[1,5,6,7],[5.2...|    1.0|\n",
      "|(8,[1,6,7],[2.940...|    0.0|\n",
      "|[0.0,2.6898016132...|    0.0|\n",
      "|[0.0,2.8461854279...|    0.0|\n",
      "|[0.0,2.9087389538...|    0.0|\n",
      "|[0.0,2.9087389538...|    0.0|\n",
      "|[0.0,2.9087389538...|    0.0|\n",
      "|[0.0,2.9400157167...|    0.0|\n",
      "|[0.0,2.9712924797...|    0.0|\n",
      "|[0.0,2.9712924797...|    0.0|\n",
      "|[0.0,2.9712924797...|    1.0|\n",
      "+--------------------+-------+\n",
      "only showing top 20 rows\n",
      "\n"
     ]
    }
   ],
   "source": [
    "train.show()"
   ]
  },
  {
   "cell_type": "code",
   "execution_count": 27,
   "metadata": {},
   "outputs": [
    {
     "name": "stdout",
     "output_type": "stream",
     "text": [
      "+--------------------+-------+\n",
      "|     Scaled_features|Outcome|\n",
      "+--------------------+-------+\n",
      "|(8,[0,1,6,7],[0.5...|    0.0|\n",
      "|(8,[0,1,6,7],[1.7...|    0.0|\n",
      "|(8,[1,5,6,7],[3.7...|    1.0|\n",
      "|(8,[1,5,6,7],[4.0...|    1.0|\n",
      "|(8,[1,5,6,7],[4.3...|    1.0|\n",
      "|[0.0,1.7827754878...|    0.0|\n",
      "|[0.0,2.0955431172...|    0.0|\n",
      "|[0.0,2.3144804578...|    0.0|\n",
      "|[0.0,2.4395875096...|    0.0|\n",
      "|[0.0,2.6272480873...|    0.0|\n",
      "|[0.0,2.6272480873...|    0.0|\n",
      "|[0.0,2.8461854279...|    0.0|\n",
      "|[0.0,3.1589530573...|    0.0|\n",
      "|[0.0,3.2527833462...|    0.0|\n",
      "|[0.0,3.3466136350...|    0.0|\n",
      "|[0.0,3.5655509756...|    0.0|\n",
      "|[0.0,3.6593812644...|    0.0|\n",
      "|[0.0,3.7844883162...|    1.0|\n",
      "|[0.0,3.8470418421...|    1.0|\n",
      "|[0.0,3.8783186051...|    0.0|\n",
      "+--------------------+-------+\n",
      "only showing top 20 rows\n",
      "\n"
     ]
    }
   ],
   "source": [
    "test.show()"
   ]
  },
  {
   "cell_type": "markdown",
   "metadata": {},
   "source": [
    "## Logistic Regression"
   ]
  },
  {
   "cell_type": "code",
   "execution_count": 56,
   "metadata": {},
   "outputs": [],
   "source": [
    "log_reg = LogisticRegression(labelCol=\"Outcome\", featuresCol=\"Scaled_features\",maxIter=40) #max no of iteration model\n",
    "model=log_reg.fit(train)                                                              #should go to minimize the loss"
   ]
  },
  {
   "cell_type": "code",
   "execution_count": 57,
   "metadata": {},
   "outputs": [],
   "source": [
    "prediction_test=model.transform(test)"
   ]
  },
  {
   "cell_type": "code",
   "execution_count": 58,
   "metadata": {},
   "outputs": [
    {
     "name": "stdout",
     "output_type": "stream",
     "text": [
      "+--------------------+-------+--------------------+--------------------+----------+\n",
      "|     Scaled_features|Outcome|       rawPrediction|         probability|prediction|\n",
      "+--------------------+-------+--------------------+--------------------+----------+\n",
      "|(8,[0,1,6,7],[0.5...|    0.0|[4.91809522679584...|[0.99274004510815...|       0.0|\n",
      "|(8,[0,1,6,7],[1.7...|    0.0|[3.11914148529300...|[0.95767544348934...|       0.0|\n",
      "|(8,[1,5,6,7],[3.7...|    1.0|[1.07362137824220...|[0.74528499159925...|       0.0|\n",
      "|(8,[1,5,6,7],[4.0...|    1.0|[-0.2794838452623...|[0.43058032281107...|       1.0|\n",
      "|(8,[1,5,6,7],[4.3...|    1.0|[-0.3863589587755...|[0.40459411366801...|       1.0|\n",
      "|[0.0,1.7827754878...|    0.0|[3.21915095236868...|[0.96154863508013...|       0.0|\n",
      "|[0.0,2.0955431172...|    0.0|[1.89433682742308...|[0.86924922254259...|       0.0|\n",
      "|[0.0,2.3144804578...|    0.0|[3.20156971917916...|[0.96089330580045...|       0.0|\n",
      "|[0.0,2.4395875096...|    0.0|[2.44283496410001...|[0.92003590419602...|       0.0|\n",
      "|[0.0,2.6272480873...|    0.0|[2.13956509849264...|[0.89468964105261...|       0.0|\n",
      "|[0.0,2.6272480873...|    0.0|[2.26991491631980...|[0.90635456645236...|       0.0|\n",
      "|[0.0,2.8461854279...|    0.0|[2.23249723395422...|[0.90313005247201...|       0.0|\n",
      "|[0.0,3.1589530573...|    0.0|[2.81151285398371...|[0.94329479562412...|       0.0|\n",
      "|[0.0,3.2527833462...|    0.0|[2.90185738539753...|[0.94793817777210...|       0.0|\n",
      "|[0.0,3.3466136350...|    0.0|[0.67127902610699...|[0.66178949535929...|       0.0|\n",
      "|[0.0,3.5655509756...|    0.0|[0.93306788409420...|[0.71769727795420...|       0.0|\n",
      "|[0.0,3.6593812644...|    0.0|[1.57754113238579...|[0.82885600042410...|       0.0|\n",
      "|[0.0,3.7844883162...|    1.0|[1.16337476679926...|[0.76194538664074...|       0.0|\n",
      "|[0.0,3.8470418421...|    1.0|[0.64183161593282...|[0.65516738244929...|       0.0|\n",
      "|[0.0,3.8783186051...|    0.0|[2.05478245564207...|[0.88642996802258...|       0.0|\n",
      "+--------------------+-------+--------------------+--------------------+----------+\n",
      "only showing top 20 rows\n",
      "\n"
     ]
    }
   ],
   "source": [
    "prediction_test.show() # on the basis of prob and thresold it calculates the prediction"
   ]
  },
  {
   "cell_type": "code",
   "execution_count": 59,
   "metadata": {},
   "outputs": [
    {
     "name": "stdout",
     "output_type": "stream",
     "text": [
      "+-------+----------+\n",
      "|Outcome|prediction|\n",
      "+-------+----------+\n",
      "|    0.0|       0.0|\n",
      "|    0.0|       0.0|\n",
      "|    1.0|       0.0|\n",
      "|    1.0|       1.0|\n",
      "|    1.0|       1.0|\n",
      "|    0.0|       0.0|\n",
      "|    0.0|       0.0|\n",
      "|    0.0|       0.0|\n",
      "|    0.0|       0.0|\n",
      "|    0.0|       0.0|\n",
      "+-------+----------+\n",
      "only showing top 10 rows\n",
      "\n"
     ]
    }
   ],
   "source": [
    "prediction_test.select(\"Outcome\",\"prediction\").show(10)"
   ]
  },
  {
   "cell_type": "code",
   "execution_count": 60,
   "metadata": {},
   "outputs": [],
   "source": [
    "# there is no evaluation metric like roc score on ml package \n",
    "# so we convert our prediction to rdd so that mllib package has these evaluation metrics\n",
    "# Compute raw scores on the test set\n",
    "predictionAndLabels = prediction_test.select(\"Outcome\",\"prediction\").rdd"
   ]
  },
  {
   "cell_type": "code",
   "execution_count": 61,
   "metadata": {},
   "outputs": [
    {
     "data": {
      "text/plain": [
       "[Row(Outcome=0.0, prediction=0.0),\n",
       " Row(Outcome=0.0, prediction=0.0),\n",
       " Row(Outcome=1.0, prediction=0.0),\n",
       " Row(Outcome=1.0, prediction=1.0),\n",
       " Row(Outcome=1.0, prediction=1.0),\n",
       " Row(Outcome=0.0, prediction=0.0),\n",
       " Row(Outcome=0.0, prediction=0.0),\n",
       " Row(Outcome=0.0, prediction=0.0),\n",
       " Row(Outcome=0.0, prediction=0.0),\n",
       " Row(Outcome=0.0, prediction=0.0),\n",
       " Row(Outcome=0.0, prediction=0.0),\n",
       " Row(Outcome=0.0, prediction=0.0),\n",
       " Row(Outcome=0.0, prediction=0.0),\n",
       " Row(Outcome=0.0, prediction=0.0),\n",
       " Row(Outcome=0.0, prediction=0.0),\n",
       " Row(Outcome=0.0, prediction=0.0),\n",
       " Row(Outcome=0.0, prediction=0.0),\n",
       " Row(Outcome=1.0, prediction=0.0),\n",
       " Row(Outcome=1.0, prediction=0.0),\n",
       " Row(Outcome=0.0, prediction=0.0),\n",
       " Row(Outcome=0.0, prediction=0.0),\n",
       " Row(Outcome=0.0, prediction=0.0),\n",
       " Row(Outcome=0.0, prediction=0.0),\n",
       " Row(Outcome=0.0, prediction=0.0),\n",
       " Row(Outcome=0.0, prediction=0.0),\n",
       " Row(Outcome=0.0, prediction=0.0),\n",
       " Row(Outcome=0.0, prediction=1.0),\n",
       " Row(Outcome=0.0, prediction=1.0),\n",
       " Row(Outcome=1.0, prediction=1.0),\n",
       " Row(Outcome=1.0, prediction=1.0),\n",
       " Row(Outcome=1.0, prediction=1.0),\n",
       " Row(Outcome=0.0, prediction=0.0),\n",
       " Row(Outcome=0.0, prediction=0.0),\n",
       " Row(Outcome=0.0, prediction=0.0),\n",
       " Row(Outcome=0.0, prediction=0.0),\n",
       " Row(Outcome=0.0, prediction=0.0),\n",
       " Row(Outcome=0.0, prediction=0.0),\n",
       " Row(Outcome=0.0, prediction=0.0),\n",
       " Row(Outcome=1.0, prediction=0.0),\n",
       " Row(Outcome=0.0, prediction=0.0),\n",
       " Row(Outcome=0.0, prediction=0.0),\n",
       " Row(Outcome=0.0, prediction=0.0),\n",
       " Row(Outcome=0.0, prediction=0.0),\n",
       " Row(Outcome=0.0, prediction=0.0),\n",
       " Row(Outcome=0.0, prediction=0.0),\n",
       " Row(Outcome=0.0, prediction=0.0),\n",
       " Row(Outcome=0.0, prediction=0.0),\n",
       " Row(Outcome=0.0, prediction=0.0),\n",
       " Row(Outcome=0.0, prediction=0.0),\n",
       " Row(Outcome=0.0, prediction=0.0),\n",
       " Row(Outcome=1.0, prediction=0.0),\n",
       " Row(Outcome=1.0, prediction=0.0),\n",
       " Row(Outcome=0.0, prediction=0.0),\n",
       " Row(Outcome=0.0, prediction=0.0),\n",
       " Row(Outcome=0.0, prediction=0.0),\n",
       " Row(Outcome=0.0, prediction=1.0),\n",
       " Row(Outcome=0.0, prediction=1.0),\n",
       " Row(Outcome=0.0, prediction=1.0),\n",
       " Row(Outcome=1.0, prediction=1.0),\n",
       " Row(Outcome=1.0, prediction=1.0),\n",
       " Row(Outcome=1.0, prediction=1.0),\n",
       " Row(Outcome=0.0, prediction=0.0),\n",
       " Row(Outcome=0.0, prediction=0.0),\n",
       " Row(Outcome=0.0, prediction=0.0),\n",
       " Row(Outcome=0.0, prediction=0.0),\n",
       " Row(Outcome=0.0, prediction=0.0),\n",
       " Row(Outcome=0.0, prediction=0.0),\n",
       " Row(Outcome=0.0, prediction=0.0),\n",
       " Row(Outcome=0.0, prediction=0.0),\n",
       " Row(Outcome=0.0, prediction=0.0),\n",
       " Row(Outcome=0.0, prediction=0.0),\n",
       " Row(Outcome=0.0, prediction=0.0),\n",
       " Row(Outcome=0.0, prediction=0.0),\n",
       " Row(Outcome=0.0, prediction=0.0),\n",
       " Row(Outcome=0.0, prediction=0.0),\n",
       " Row(Outcome=0.0, prediction=0.0),\n",
       " Row(Outcome=0.0, prediction=0.0),\n",
       " Row(Outcome=0.0, prediction=0.0),\n",
       " Row(Outcome=0.0, prediction=0.0),\n",
       " Row(Outcome=0.0, prediction=0.0),\n",
       " Row(Outcome=0.0, prediction=0.0),\n",
       " Row(Outcome=0.0, prediction=0.0),\n",
       " Row(Outcome=0.0, prediction=0.0),\n",
       " Row(Outcome=1.0, prediction=0.0),\n",
       " Row(Outcome=0.0, prediction=1.0),\n",
       " Row(Outcome=1.0, prediction=1.0),\n",
       " Row(Outcome=0.0, prediction=0.0),\n",
       " Row(Outcome=0.0, prediction=0.0),\n",
       " Row(Outcome=0.0, prediction=0.0),\n",
       " Row(Outcome=0.0, prediction=0.0),\n",
       " Row(Outcome=0.0, prediction=0.0),\n",
       " Row(Outcome=0.0, prediction=0.0),\n",
       " Row(Outcome=0.0, prediction=0.0),\n",
       " Row(Outcome=0.0, prediction=0.0),\n",
       " Row(Outcome=0.0, prediction=0.0),\n",
       " Row(Outcome=1.0, prediction=0.0),\n",
       " Row(Outcome=0.0, prediction=0.0),\n",
       " Row(Outcome=0.0, prediction=0.0),\n",
       " Row(Outcome=0.0, prediction=0.0),\n",
       " Row(Outcome=0.0, prediction=0.0),\n",
       " Row(Outcome=0.0, prediction=0.0),\n",
       " Row(Outcome=0.0, prediction=1.0),\n",
       " Row(Outcome=1.0, prediction=1.0),\n",
       " Row(Outcome=1.0, prediction=1.0),\n",
       " Row(Outcome=1.0, prediction=1.0),\n",
       " Row(Outcome=0.0, prediction=1.0),\n",
       " Row(Outcome=0.0, prediction=0.0),\n",
       " Row(Outcome=0.0, prediction=0.0),\n",
       " Row(Outcome=0.0, prediction=0.0),\n",
       " Row(Outcome=0.0, prediction=0.0),\n",
       " Row(Outcome=0.0, prediction=0.0),\n",
       " Row(Outcome=0.0, prediction=0.0),\n",
       " Row(Outcome=1.0, prediction=0.0),\n",
       " Row(Outcome=0.0, prediction=0.0),\n",
       " Row(Outcome=0.0, prediction=0.0),\n",
       " Row(Outcome=1.0, prediction=1.0),\n",
       " Row(Outcome=1.0, prediction=1.0),\n",
       " Row(Outcome=0.0, prediction=0.0),\n",
       " Row(Outcome=1.0, prediction=0.0),\n",
       " Row(Outcome=0.0, prediction=0.0),\n",
       " Row(Outcome=0.0, prediction=0.0),\n",
       " Row(Outcome=0.0, prediction=0.0),\n",
       " Row(Outcome=0.0, prediction=0.0),\n",
       " Row(Outcome=0.0, prediction=0.0),\n",
       " Row(Outcome=0.0, prediction=0.0),\n",
       " Row(Outcome=1.0, prediction=0.0),\n",
       " Row(Outcome=1.0, prediction=1.0),\n",
       " Row(Outcome=1.0, prediction=1.0),\n",
       " Row(Outcome=0.0, prediction=0.0),\n",
       " Row(Outcome=0.0, prediction=0.0),\n",
       " Row(Outcome=1.0, prediction=0.0),\n",
       " Row(Outcome=0.0, prediction=1.0),\n",
       " Row(Outcome=1.0, prediction=1.0),\n",
       " Row(Outcome=0.0, prediction=0.0),\n",
       " Row(Outcome=0.0, prediction=0.0),\n",
       " Row(Outcome=0.0, prediction=0.0),\n",
       " Row(Outcome=0.0, prediction=0.0),\n",
       " Row(Outcome=0.0, prediction=0.0),\n",
       " Row(Outcome=0.0, prediction=0.0),\n",
       " Row(Outcome=0.0, prediction=0.0),\n",
       " Row(Outcome=0.0, prediction=0.0),\n",
       " Row(Outcome=0.0, prediction=0.0),\n",
       " Row(Outcome=0.0, prediction=0.0),\n",
       " Row(Outcome=1.0, prediction=0.0),\n",
       " Row(Outcome=1.0, prediction=1.0),\n",
       " Row(Outcome=1.0, prediction=1.0),\n",
       " Row(Outcome=1.0, prediction=1.0),\n",
       " Row(Outcome=1.0, prediction=1.0),\n",
       " Row(Outcome=0.0, prediction=0.0),\n",
       " Row(Outcome=0.0, prediction=0.0),\n",
       " Row(Outcome=1.0, prediction=0.0),\n",
       " Row(Outcome=1.0, prediction=0.0),\n",
       " Row(Outcome=1.0, prediction=0.0),\n",
       " Row(Outcome=1.0, prediction=0.0),\n",
       " Row(Outcome=0.0, prediction=0.0),\n",
       " Row(Outcome=0.0, prediction=1.0),\n",
       " Row(Outcome=1.0, prediction=1.0),\n",
       " Row(Outcome=0.0, prediction=0.0),\n",
       " Row(Outcome=0.0, prediction=1.0),\n",
       " Row(Outcome=1.0, prediction=1.0),\n",
       " Row(Outcome=1.0, prediction=1.0),\n",
       " Row(Outcome=1.0, prediction=1.0),\n",
       " Row(Outcome=1.0, prediction=1.0),\n",
       " Row(Outcome=0.0, prediction=0.0),\n",
       " Row(Outcome=1.0, prediction=0.0),\n",
       " Row(Outcome=0.0, prediction=0.0),\n",
       " Row(Outcome=1.0, prediction=0.0),\n",
       " Row(Outcome=1.0, prediction=0.0),\n",
       " Row(Outcome=1.0, prediction=1.0),\n",
       " Row(Outcome=1.0, prediction=1.0),\n",
       " Row(Outcome=1.0, prediction=1.0),\n",
       " Row(Outcome=1.0, prediction=1.0),\n",
       " Row(Outcome=0.0, prediction=0.0),\n",
       " Row(Outcome=0.0, prediction=0.0),\n",
       " Row(Outcome=1.0, prediction=0.0),\n",
       " Row(Outcome=0.0, prediction=1.0),\n",
       " Row(Outcome=1.0, prediction=1.0),\n",
       " Row(Outcome=0.0, prediction=1.0),\n",
       " Row(Outcome=1.0, prediction=1.0),\n",
       " Row(Outcome=1.0, prediction=1.0),\n",
       " Row(Outcome=1.0, prediction=1.0),\n",
       " Row(Outcome=1.0, prediction=1.0),\n",
       " Row(Outcome=1.0, prediction=0.0),\n",
       " Row(Outcome=0.0, prediction=1.0),\n",
       " Row(Outcome=1.0, prediction=1.0),\n",
       " Row(Outcome=1.0, prediction=1.0),\n",
       " Row(Outcome=1.0, prediction=1.0),\n",
       " Row(Outcome=0.0, prediction=1.0),\n",
       " Row(Outcome=0.0, prediction=1.0),\n",
       " Row(Outcome=0.0, prediction=0.0),\n",
       " Row(Outcome=0.0, prediction=1.0),\n",
       " Row(Outcome=1.0, prediction=1.0),\n",
       " Row(Outcome=0.0, prediction=0.0),\n",
       " Row(Outcome=0.0, prediction=0.0),\n",
       " Row(Outcome=1.0, prediction=0.0),\n",
       " Row(Outcome=1.0, prediction=1.0)]"
      ]
     },
     "execution_count": 61,
     "metadata": {},
     "output_type": "execute_result"
    }
   ],
   "source": [
    "predictionAndLabels.collect()"
   ]
  },
  {
   "cell_type": "code",
   "execution_count": 62,
   "metadata": {},
   "outputs": [
    {
     "name": "stdout",
     "output_type": "stream",
     "text": [
      "Area under ROC = 0.7681433800328159\n"
     ]
    }
   ],
   "source": [
    "metrics = BinaryClassificationMetrics(predictionAndLabels) # this is from mllib package \n",
    "\n",
    "# Area under ROC curve\n",
    "print(\"Area under ROC = %s\" % metrics.areaUnderROC)"
   ]
  },
  {
   "cell_type": "code",
   "execution_count": 63,
   "metadata": {},
   "outputs": [
    {
     "name": "stdout",
     "output_type": "stream",
     "text": [
      "Accuracy =  0.7959183673469388\n"
     ]
    }
   ],
   "source": [
    "evaluator = MulticlassClassificationEvaluator(labelCol=\"Outcome\", predictionCol=\"prediction\", metricName=\"accuracy\")\n",
    "accuracy_LR = evaluator.evaluate(prediction_test) # ml package \n",
    "print (\"Accuracy = \" ,accuracy_LR)"
   ]
  },
  {
   "cell_type": "code",
   "execution_count": 67,
   "metadata": {},
   "outputs": [
    {
     "data": {
      "text/plain": [
       "[Row(TPR=0.0),\n",
       " Row(TPR=0.01951219512195122),\n",
       " Row(TPR=0.03902439024390244),\n",
       " Row(TPR=0.04878048780487805),\n",
       " Row(TPR=0.07317073170731707),\n",
       " Row(TPR=0.0975609756097561),\n",
       " Row(TPR=0.11219512195121951),\n",
       " Row(TPR=0.13658536585365855),\n",
       " Row(TPR=0.15609756097560976),\n",
       " Row(TPR=0.18048780487804877),\n",
       " Row(TPR=0.2048780487804878),\n",
       " Row(TPR=0.21951219512195122),\n",
       " Row(TPR=0.24390243902439024),\n",
       " Row(TPR=0.25853658536585367),\n",
       " Row(TPR=0.2780487804878049),\n",
       " Row(TPR=0.3024390243902439),\n",
       " Row(TPR=0.3170731707317073),\n",
       " Row(TPR=0.33170731707317075),\n",
       " Row(TPR=0.35121951219512193),\n",
       " Row(TPR=0.36585365853658536),\n",
       " Row(TPR=0.3853658536585366),\n",
       " Row(TPR=0.4097560975609756),\n",
       " Row(TPR=0.4195121951219512),\n",
       " Row(TPR=0.4292682926829268),\n",
       " Row(TPR=0.44878048780487806),\n",
       " Row(TPR=0.4634146341463415),\n",
       " Row(TPR=0.47804878048780486),\n",
       " Row(TPR=0.4926829268292683),\n",
       " Row(TPR=0.5073170731707317),\n",
       " Row(TPR=0.5170731707317073),\n",
       " Row(TPR=0.5365853658536586),\n",
       " Row(TPR=0.551219512195122),\n",
       " Row(TPR=0.5658536585365853),\n",
       " Row(TPR=0.5756097560975609),\n",
       " Row(TPR=0.5902439024390244),\n",
       " Row(TPR=0.6),\n",
       " Row(TPR=0.6048780487804878),\n",
       " Row(TPR=0.6146341463414634),\n",
       " Row(TPR=0.6292682926829268),\n",
       " Row(TPR=0.6390243902439025),\n",
       " Row(TPR=0.6439024390243903),\n",
       " Row(TPR=0.6634146341463415),\n",
       " Row(TPR=0.6731707317073171),\n",
       " Row(TPR=0.6780487804878049),\n",
       " Row(TPR=0.6926829268292682),\n",
       " Row(TPR=0.7024390243902439),\n",
       " Row(TPR=0.7121951219512195),\n",
       " Row(TPR=0.7219512195121951),\n",
       " Row(TPR=0.7317073170731707),\n",
       " Row(TPR=0.7365853658536585),\n",
       " Row(TPR=0.7463414634146341),\n",
       " Row(TPR=0.751219512195122),\n",
       " Row(TPR=0.7560975609756098),\n",
       " Row(TPR=0.7658536585365854),\n",
       " Row(TPR=0.7707317073170732),\n",
       " Row(TPR=0.7853658536585366),\n",
       " Row(TPR=0.8),\n",
       " Row(TPR=0.8048780487804879),\n",
       " Row(TPR=0.8048780487804879),\n",
       " Row(TPR=0.8146341463414634),\n",
       " Row(TPR=0.8292682926829268),\n",
       " Row(TPR=0.8390243902439024),\n",
       " Row(TPR=0.848780487804878),\n",
       " Row(TPR=0.8536585365853658),\n",
       " Row(TPR=0.8585365853658536),\n",
       " Row(TPR=0.8585365853658536),\n",
       " Row(TPR=0.8780487804878049),\n",
       " Row(TPR=0.8829268292682927),\n",
       " Row(TPR=0.8975609756097561),\n",
       " Row(TPR=0.8975609756097561),\n",
       " Row(TPR=0.9024390243902439),\n",
       " Row(TPR=0.9073170731707317),\n",
       " Row(TPR=0.9073170731707317),\n",
       " Row(TPR=0.9170731707317074),\n",
       " Row(TPR=0.9219512195121952),\n",
       " Row(TPR=0.9219512195121952),\n",
       " Row(TPR=0.926829268292683),\n",
       " Row(TPR=0.9317073170731708),\n",
       " Row(TPR=0.9317073170731708),\n",
       " Row(TPR=0.9365853658536586),\n",
       " Row(TPR=0.9512195121951219),\n",
       " Row(TPR=0.9512195121951219),\n",
       " Row(TPR=0.9512195121951219),\n",
       " Row(TPR=0.9609756097560975),\n",
       " Row(TPR=0.9609756097560975),\n",
       " Row(TPR=0.9609756097560975),\n",
       " Row(TPR=0.9609756097560975),\n",
       " Row(TPR=0.9658536585365853),\n",
       " Row(TPR=0.9658536585365853),\n",
       " Row(TPR=0.9658536585365853),\n",
       " Row(TPR=0.9658536585365853),\n",
       " Row(TPR=0.9707317073170731),\n",
       " Row(TPR=0.9707317073170731),\n",
       " Row(TPR=0.9707317073170731),\n",
       " Row(TPR=0.975609756097561),\n",
       " Row(TPR=0.975609756097561),\n",
       " Row(TPR=0.975609756097561),\n",
       " Row(TPR=0.975609756097561),\n",
       " Row(TPR=0.975609756097561),\n",
       " Row(TPR=0.975609756097561),\n",
       " Row(TPR=0.975609756097561),\n",
       " Row(TPR=0.975609756097561),\n",
       " Row(TPR=0.9804878048780488),\n",
       " Row(TPR=0.9804878048780488),\n",
       " Row(TPR=0.9853658536585366),\n",
       " Row(TPR=0.9853658536585366),\n",
       " Row(TPR=0.9853658536585366),\n",
       " Row(TPR=0.9902439024390244),\n",
       " Row(TPR=0.9902439024390244),\n",
       " Row(TPR=0.9902439024390244),\n",
       " Row(TPR=0.9902439024390244),\n",
       " Row(TPR=0.9951219512195122),\n",
       " Row(TPR=0.9951219512195122),\n",
       " Row(TPR=1.0),\n",
       " Row(TPR=1.0),\n",
       " Row(TPR=1.0),\n",
       " Row(TPR=1.0)]"
      ]
     },
     "execution_count": 67,
     "metadata": {},
     "output_type": "execute_result"
    }
   ],
   "source": [
    "model.summary.roc.select('FPR').collect()\n",
    "model.summary.roc.select('TPR').collect()"
   ]
  },
  {
   "cell_type": "code",
   "execution_count": 68,
   "metadata": {},
   "outputs": [
    {
     "data": {
      "image/png": "[encoded data removed]",
      "text/plain": [
       "<Figure size 360x360 with 1 Axes>"
      ]
     },
     "metadata": {
      "needs_background": "light"
     },
     "output_type": "display_data"
    }
   ],
   "source": [
    "import matplotlib.pyplot as plt\n",
    "plt.figure(figsize=(5,5))\n",
    "plt.plot([0, 1], [0, 1], 'r--')\n",
    "plt.plot(model.summary.roc.select('FPR').collect(),\n",
    "         model.summary.roc.select('TPR').collect())\n",
    "plt.xlabel('FPR')\n",
    "plt.ylabel('TPR')\n",
    "plt.show() # we can manually plot it "
   ]
  },
  {
   "cell_type": "markdown",
   "metadata": {},
   "source": [
    "## NaiveBayes"
   ]
  },
  {
   "cell_type": "code",
   "execution_count": 46,
   "metadata": {},
   "outputs": [],
   "source": [
    "naive_bayes = NaiveBayes(featuresCol='Scaled_features',labelCol='Outcome',smoothing=1.0) \n",
    "# smooth our categorical data , it is used to solve the problem of zero probabilities, we assign 1 to get rid of \n",
    "# this problem, we're adding 1 to every features"
   ]
  },
  {
   "cell_type": "code",
   "execution_count": 47,
   "metadata": {},
   "outputs": [],
   "source": [
    "model = naive_bayes.fit(train) "
   ]
  },
  {
   "cell_type": "code",
   "execution_count": 48,
   "metadata": {},
   "outputs": [],
   "source": [
    "# select example rows to display.\n",
    "prediction_test = model.transform(test)"
   ]
  },
  {
   "cell_type": "code",
   "execution_count": 49,
   "metadata": {},
   "outputs": [
    {
     "name": "stdout",
     "output_type": "stream",
     "text": [
      "+--------------------+-------+--------------------+--------------------+----------+\n",
      "|     Scaled_features|Outcome|       rawPrediction|         probability|prediction|\n",
      "+--------------------+-------+--------------------+--------------------+----------+\n",
      "|(8,[0,1,6,7],[0.5...|    0.0|[-10.275590918844...|[0.58844189772916...|       0.0|\n",
      "|(8,[0,1,6,7],[1.7...|    0.0|[-17.070740025279...|[0.51972849565021...|       0.0|\n",
      "|(8,[1,5,6,7],[3.7...|    1.0|[-17.734883792692...|[0.62926711279794...|       0.0|\n",
      "|(8,[1,5,6,7],[4.0...|    1.0|[-21.753800990343...|[0.63496733651500...|       0.0|\n",
      "|(8,[1,5,6,7],[4.3...|    1.0|[-25.755342309217...|[0.61375399797293...|       0.0|\n",
      "|[0.0,1.7827754878...|    0.0|[-29.046016228228...|[0.73088303300680...|       0.0|\n",
      "|[0.0,2.0955431172...|    0.0|[-27.874409207263...|[0.76893441521258...|       0.0|\n",
      "|[0.0,2.3144804578...|    0.0|[-22.274861152801...|[0.69912158964023...|       0.0|\n",
      "|[0.0,2.4395875096...|    0.0|[-31.634238518714...|[0.75220468397624...|       0.0|\n",
      "|[0.0,2.6272480873...|    0.0|[-30.178051878440...|[0.70404187223165...|       0.0|\n",
      "|[0.0,2.6272480873...|    0.0|[-33.266163471809...|[0.70899881976822...|       0.0|\n",
      "|[0.0,2.8461854279...|    0.0|[-27.037823120920...|[0.74366517410587...|       0.0|\n",
      "|[0.0,3.1589530573...|    0.0|[-21.642594392708...|[0.70957447906529...|       0.0|\n",
      "|[0.0,3.2527833462...|    0.0|[-24.518537445598...|[0.72028742356504...|       0.0|\n",
      "|[0.0,3.3466136350...|    0.0|[-30.185729068002...|[0.74322518627284...|       0.0|\n",
      "|[0.0,3.5655509756...|    0.0|[-41.086914949427...|[0.62150030741825...|       0.0|\n",
      "|[0.0,3.6593812644...|    0.0|[-35.877155665263...|[0.62857583390083...|       0.0|\n",
      "|[0.0,3.7844883162...|    1.0|[-35.445216669869...|[0.65015810017022...|       0.0|\n",
      "|[0.0,3.8470418421...|    1.0|[-30.126249356176...|[0.73609012592444...|       0.0|\n",
      "|[0.0,3.8783186051...|    0.0|[-27.772751408182...|[0.63945856341855...|       0.0|\n",
      "+--------------------+-------+--------------------+--------------------+----------+\n",
      "only showing top 20 rows\n",
      "\n"
     ]
    }
   ],
   "source": [
    "prediction_test.show()"
   ]
  },
  {
   "cell_type": "code",
   "execution_count": 50,
   "metadata": {},
   "outputs": [
    {
     "name": "stdout",
     "output_type": "stream",
     "text": [
      "+-------+----------+\n",
      "|Outcome|prediction|\n",
      "+-------+----------+\n",
      "|    0.0|       0.0|\n",
      "|    0.0|       0.0|\n",
      "|    1.0|       0.0|\n",
      "|    1.0|       0.0|\n",
      "|    1.0|       0.0|\n",
      "|    0.0|       0.0|\n",
      "|    0.0|       0.0|\n",
      "|    0.0|       0.0|\n",
      "|    0.0|       0.0|\n",
      "|    0.0|       0.0|\n",
      "+-------+----------+\n",
      "only showing top 10 rows\n",
      "\n"
     ]
    }
   ],
   "source": [
    "prediction_test.select(\"Outcome\",\"prediction\").show(10)"
   ]
  },
  {
   "cell_type": "code",
   "execution_count": 51,
   "metadata": {},
   "outputs": [],
   "source": [
    "predictionAndLabels = prediction_test.select(\"Outcome\",\"prediction\").rdd"
   ]
  },
  {
   "cell_type": "code",
   "execution_count": 52,
   "metadata": {},
   "outputs": [],
   "source": [
    "# Select (prediction, true label) and compute test error\n",
    "evaluator = MulticlassClassificationEvaluator(labelCol=\"Outcome\", predictionCol=\"prediction\", metricName=\"accuracy\")\n",
    "accuracy_NB = evaluator.evaluate(prediction_test)"
   ]
  },
  {
   "cell_type": "code",
   "execution_count": 53,
   "metadata": {},
   "outputs": [
    {
     "name": "stdout",
     "output_type": "stream",
     "text": [
      "Accuracy 0.6938775510204082\n"
     ]
    }
   ],
   "source": [
    "print (\"Accuracy\",accuracy_NB)"
   ]
  },
  {
   "cell_type": "code",
   "execution_count": 54,
   "metadata": {},
   "outputs": [
    {
     "name": "stdout",
     "output_type": "stream",
     "text": [
      "Area under ROC = 0.7037037037037037\n"
     ]
    }
   ],
   "source": [
    "metrics = BinaryClassificationMetrics(predictionAndLabels)\n",
    "\n",
    "# Area under ROC curve\n",
    "print(\"Area under ROC = %s\" % metrics.areaUnderROC)"
   ]
  },
  {
   "cell_type": "markdown",
   "metadata": {},
   "source": [
    "## GBTClassifier"
   ]
  },
  {
   "cell_type": "code",
   "execution_count": 33,
   "metadata": {},
   "outputs": [],
   "source": [
    "gradient_boost_class = GBTClassifier(labelCol=\"Outcome\", featuresCol=\"Scaled_features\")"
   ]
  },
  {
   "cell_type": "code",
   "execution_count": 34,
   "metadata": {},
   "outputs": [],
   "source": [
    "model = gradient_boost_class.fit(train)"
   ]
  },
  {
   "cell_type": "code",
   "execution_count": 35,
   "metadata": {},
   "outputs": [],
   "source": [
    "prediction_test = model.transform(test)"
   ]
  },
  {
   "cell_type": "code",
   "execution_count": 36,
   "metadata": {},
   "outputs": [
    {
     "name": "stdout",
     "output_type": "stream",
     "text": [
      "+--------------------+-------+--------------------+--------------------+----------+\n",
      "|     Scaled_features|Outcome|       rawPrediction|         probability|prediction|\n",
      "+--------------------+-------+--------------------+--------------------+----------+\n",
      "|(8,[0,1,6,7],[0.5...|    0.0|[1.46322164565646...|[0.94913824957671...|       0.0|\n",
      "|(8,[0,1,6,7],[0.8...|    0.0|[1.41442439862358...|[0.94421499572513...|       0.0|\n",
      "|(8,[0,1,6,7],[2.0...|    0.0|[0.86062494424491...|[0.84828975982942...|       0.0|\n",
      "|(8,[1,5,6,7],[3.6...|    0.0|[-0.4109641807414...|[0.30535447566236...|       1.0|\n",
      "|(8,[1,5,6,7],[4.5...|    1.0|[-1.2122751218803...|[0.08131967312938...|       1.0|\n",
      "|[0.0,1.7827754878...|    0.0|[1.47520326303112...|[0.95028269848120...|       0.0|\n",
      "|[0.0,2.4395875096...|    0.0|[1.54494326110814...|[0.95647364100333...|       0.0|\n",
      "|[0.0,2.9087389538...|    0.0|[1.39984530324886...|[0.94265910276951...|       0.0|\n",
      "|[0.0,2.9712924797...|    0.0|[1.38329894041672...|[0.94084391976431...|       0.0|\n",
      "|[0.0,2.9712924797...|    1.0|[1.18018398998513...|[0.91375480930166...|       0.0|\n",
      "|[0.0,3.0338460056...|    0.0|[0.98642287154485...|[0.87791644569584...|       0.0|\n",
      "|[0.0,3.1589530573...|    0.0|[1.40606214571711...|[0.94332749238132...|       0.0|\n",
      "|[0.0,3.1589530573...|    0.0|[1.38849324763717...|[0.94141947404645...|       0.0|\n",
      "|[0.0,3.1589530573...|    0.0|[0.32321728657031...|[0.65620655269445...|       0.0|\n",
      "|[0.0,3.1902298203...|    0.0|[0.57833524993955...|[0.76072720101444...|       0.0|\n",
      "|[0.0,3.2840601091...|    0.0|[0.87797372659879...|[0.85270138048375...|       0.0|\n",
      "|[0.0,3.4091671609...|    1.0|[-0.0018640221027...|[0.49906799002808...|       1.0|\n",
      "|[0.0,3.6593812644...|    0.0|[0.66205483106672...|[0.78986463462633...|       0.0|\n",
      "|[0.0,3.8470418421...|    1.0|[0.18414004267379...|[0.59104332113560...|       0.0|\n",
      "|[0.0,3.8470418421...|    0.0|[0.77015269051562...|[0.82350911425083...|       0.0|\n",
      "+--------------------+-------+--------------------+--------------------+----------+\n",
      "only showing top 20 rows\n",
      "\n"
     ]
    }
   ],
   "source": [
    "prediction_test.show()"
   ]
  },
  {
   "cell_type": "code",
   "execution_count": 37,
   "metadata": {},
   "outputs": [
    {
     "name": "stdout",
     "output_type": "stream",
     "text": [
      "+-------+----------+\n",
      "|Outcome|prediction|\n",
      "+-------+----------+\n",
      "|    0.0|       0.0|\n",
      "|    0.0|       0.0|\n",
      "|    0.0|       0.0|\n",
      "|    0.0|       1.0|\n",
      "|    1.0|       1.0|\n",
      "|    0.0|       0.0|\n",
      "|    0.0|       0.0|\n",
      "|    0.0|       0.0|\n",
      "|    0.0|       0.0|\n",
      "|    1.0|       0.0|\n",
      "+-------+----------+\n",
      "only showing top 10 rows\n",
      "\n"
     ]
    }
   ],
   "source": [
    "prediction_test.select(\"Outcome\",\"prediction\").show(10)"
   ]
  },
  {
   "cell_type": "code",
   "execution_count": 38,
   "metadata": {},
   "outputs": [],
   "source": [
    "predictionAndLabels = prediction_test.select(\"Outcome\",\"prediction\").rdd"
   ]
  },
  {
   "cell_type": "code",
   "execution_count": 39,
   "metadata": {},
   "outputs": [
    {
     "name": "stdout",
     "output_type": "stream",
     "text": [
      "Area under ROC = 0.6698850574712645\n"
     ]
    }
   ],
   "source": [
    "metrics = BinaryClassificationMetrics(predictionAndLabels)\n",
    "\n",
    "# Area under ROC curve\n",
    "print(\"Area under ROC = %s\" % metrics.areaUnderROC)"
   ]
  },
  {
   "cell_type": "code",
   "execution_count": 40,
   "metadata": {},
   "outputs": [],
   "source": [
    "# Select (prediction, true label) and compute test error\n",
    "evaluator = MulticlassClassificationEvaluator( labelCol=\"Outcome\", predictionCol=\"prediction\", metricName=\"accuracy\")\n",
    "accuracy_GBT = evaluator.evaluate(prediction_test)"
   ]
  },
  {
   "cell_type": "code",
   "execution_count": 41,
   "metadata": {},
   "outputs": [
    {
     "name": "stdout",
     "output_type": "stream",
     "text": [
      "Accuracy 0.7090909090909091\n"
     ]
    }
   ],
   "source": [
    "print (\"Accuracy\",accuracy_GBT)"
   ]
  },
  {
   "cell_type": "markdown",
   "metadata": {},
   "source": [
    "## RandomForestClassifier"
   ]
  },
  {
   "cell_type": "code",
   "execution_count": 42,
   "metadata": {},
   "outputs": [],
   "source": [
    "random_forest_classifier = RandomForestClassifier(labelCol=\"Outcome\", featuresCol=\"Scaled_features\", numTrees=40)"
   ]
  },
  {
   "cell_type": "code",
   "execution_count": 43,
   "metadata": {},
   "outputs": [],
   "source": [
    "model = random_forest_classifier.fit(train)"
   ]
  },
  {
   "cell_type": "code",
   "execution_count": 44,
   "metadata": {},
   "outputs": [],
   "source": [
    "prediction_test = model.transform(test)"
   ]
  },
  {
   "cell_type": "code",
   "execution_count": 45,
   "metadata": {},
   "outputs": [
    {
     "name": "stdout",
     "output_type": "stream",
     "text": [
      "+--------------------+-------+--------------------+--------------------+----------+\n",
      "|     Scaled_features|Outcome|       rawPrediction|         probability|prediction|\n",
      "+--------------------+-------+--------------------+--------------------+----------+\n",
      "|(8,[0,1,6,7],[0.5...|    0.0|[37.9021449721527...|[0.94755362430381...|       0.0|\n",
      "|(8,[0,1,6,7],[0.8...|    0.0|[37.4887717197004...|[0.93721929299251...|       0.0|\n",
      "|(8,[0,1,6,7],[2.0...|    0.0|[26.4189133710575...|[0.66047283427643...|       0.0|\n",
      "|(8,[1,5,6,7],[3.6...|    0.0|[22.2501223764016...|[0.55625305941004...|       0.0|\n",
      "|(8,[1,5,6,7],[4.5...|    1.0|[11.1163627511122...|[0.27790906877780...|       1.0|\n",
      "|[0.0,1.7827754878...|    0.0|[33.6997398322376...|[0.84249349580594...|       0.0|\n",
      "|[0.0,2.4395875096...|    0.0|[34.8002418249956...|[0.87000604562489...|       0.0|\n",
      "|[0.0,2.9087389538...|    0.0|[34.1716924620991...|[0.85429231155247...|       0.0|\n",
      "|[0.0,2.9712924797...|    0.0|[29.9264290075242...|[0.74816072518810...|       0.0|\n",
      "|[0.0,2.9712924797...|    1.0|[34.7135071311180...|[0.86783767827795...|       0.0|\n",
      "|[0.0,3.0338460056...|    0.0|[32.0718009776504...|[0.80179502444126...|       0.0|\n",
      "|[0.0,3.1589530573...|    0.0|[37.1127754870337...|[0.92781938717584...|       0.0|\n",
      "|[0.0,3.1589530573...|    0.0|[38.2981738837073...|[0.95745434709268...|       0.0|\n",
      "|[0.0,3.1589530573...|    0.0|[31.6843776585870...|[0.79210944146467...|       0.0|\n",
      "|[0.0,3.1902298203...|    0.0|[31.1392047583064...|[0.77848011895766...|       0.0|\n",
      "|[0.0,3.2840601091...|    0.0|[26.3946861373980...|[0.65986715343495...|       0.0|\n",
      "|[0.0,3.4091671609...|    1.0|[23.0956726331153...|[0.57739181582788...|       0.0|\n",
      "|[0.0,3.6593812644...|    0.0|[32.3281209858459...|[0.80820302464614...|       0.0|\n",
      "|[0.0,3.8470418421...|    1.0|[24.8391328961223...|[0.62097832240305...|       0.0|\n",
      "|[0.0,3.8470418421...|    0.0|[29.3086400793551...|[0.73271600198387...|       0.0|\n",
      "+--------------------+-------+--------------------+--------------------+----------+\n",
      "only showing top 20 rows\n",
      "\n"
     ]
    }
   ],
   "source": [
    "prediction_test.show()"
   ]
  },
  {
   "cell_type": "code",
   "execution_count": 46,
   "metadata": {},
   "outputs": [
    {
     "name": "stdout",
     "output_type": "stream",
     "text": [
      "+-------+----------+\n",
      "|Outcome|prediction|\n",
      "+-------+----------+\n",
      "|    0.0|       0.0|\n",
      "|    0.0|       0.0|\n",
      "|    0.0|       0.0|\n",
      "|    0.0|       0.0|\n",
      "|    1.0|       1.0|\n",
      "|    0.0|       0.0|\n",
      "|    0.0|       0.0|\n",
      "|    0.0|       0.0|\n",
      "|    0.0|       0.0|\n",
      "|    1.0|       0.0|\n",
      "+-------+----------+\n",
      "only showing top 10 rows\n",
      "\n"
     ]
    }
   ],
   "source": [
    "prediction_test.select(\"Outcome\",\"prediction\").show(10)"
   ]
  },
  {
   "cell_type": "code",
   "execution_count": 47,
   "metadata": {},
   "outputs": [],
   "source": [
    "predictionAndLabels = prediction_test.select(\"Outcome\",\"prediction\").rdd"
   ]
  },
  {
   "cell_type": "code",
   "execution_count": 48,
   "metadata": {},
   "outputs": [
    {
     "name": "stdout",
     "output_type": "stream",
     "text": [
      "Area under ROC = 0.7186104218362283\n"
     ]
    }
   ],
   "source": [
    "metrics = BinaryClassificationMetrics(predictionAndLabels)\n",
    "\n",
    "# Area under ROC curve\n",
    "print(\"Area under ROC = %s\" % metrics.areaUnderROC)"
   ]
  },
  {
   "cell_type": "code",
   "execution_count": 49,
   "metadata": {},
   "outputs": [],
   "source": [
    "# Select (prediction, true label) and compute test error\n",
    "evaluator = MulticlassClassificationEvaluator( labelCol=\"Outcome\", predictionCol=\"prediction\", metricName=\"accuracy\")\n",
    "accuracy_RF= evaluator.evaluate(prediction_test)"
   ]
  },
  {
   "cell_type": "code",
   "execution_count": 50,
   "metadata": {},
   "outputs": [
    {
     "name": "stdout",
     "output_type": "stream",
     "text": [
      "Accuracy 0.7545454545454545\n"
     ]
    }
   ],
   "source": [
    "print (\"Accuracy\",accuracy_RF)"
   ]
  },
  {
   "cell_type": "code",
   "execution_count": 51,
   "metadata": {},
   "outputs": [
    {
     "name": "stdout",
     "output_type": "stream",
     "text": [
      "Accuracy of GBT :  0.7090909090909091\n",
      "Accuracy of LR :  0.7681818181818182\n",
      "Accuracy of NB :  0.6863636363636364\n",
      "Accuracy of RF :  0.7545454545454545\n"
     ]
    }
   ],
   "source": [
    "print(\"Accuracy of GBT : \",accuracy_GBT)\n",
    "print(\"Accuracy of LR : \",accuracy_LR)\n",
    "print(\"Accuracy of NB : \",accuracy_NB)\n",
    "print(\"Accuracy of RF : \",accuracy_RF)\n",
    "\n"
   ]
  }
 ],
 "metadata": {
  "kernelspec": {
   "display_name": "Python 3",
   "language": "python",
   "name": "python3"
  },
  "language_info": {
   "codemirror_mode": {
    "name": "ipython",
    "version": 3
   },
   "file_extension": ".py",
   "mimetype": "text/x-python",
   "name": "python",
   "nbconvert_exporter": "python",
   "pygments_lexer": "ipython3",
   "version": "3.7.6"
  }
 },
 "nbformat": 4,
 "nbformat_minor": 4
}
