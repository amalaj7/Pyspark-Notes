{
 "cells": [
  {
   "cell_type": "code",
   "execution_count": 15,
   "metadata": {},
   "outputs": [],
   "source": [
    "from __future__ import print_function\n",
    "import findspark\n",
    "findspark.init()\n",
    "findspark.find()\n",
    "import pyspark\n",
    "findspark.find()\n",
    "from pyspark.sql import SparkSession\n",
    "import pandas as pd\n",
    "from pyspark.mllib.feature import StandardScaler,PCA"
   ]
  },
  {
   "cell_type": "code",
   "execution_count": 4,
   "metadata": {},
   "outputs": [],
   "source": [
    "if __name__ == \"__main__\":\n",
    "    sc = SparkSession .builder\\\n",
    "        .appName(\"PCA\")\\\n",
    "        .getOrCreate()"
   ]
  },
  {
   "cell_type": "code",
   "execution_count": 5,
   "metadata": {},
   "outputs": [],
   "source": [
    "df = sc.read.csv(\"Glass.data\",header=True)"
   ]
  },
  {
   "cell_type": "code",
   "execution_count": 6,
   "metadata": {},
   "outputs": [
    {
     "name": "stdout",
     "output_type": "stream",
     "text": [
      "+-----+-------+-----+----+----+-----+----+----+----+----+-----+\n",
      "|index|     RI|   Na|  Mg|  Al|   Si|   K|  Ca|  Ba|  Fe|Class|\n",
      "+-----+-------+-----+----+----+-----+----+----+----+----+-----+\n",
      "|    1|1.52101|13.64|4.49|1.10|71.78|0.06|8.75|0.00|0.00|    1|\n",
      "|    2|1.51761|13.89|3.60|1.36|72.73|0.48|7.83|0.00|0.00|    1|\n",
      "|    3|1.51618|13.53|3.55|1.54|72.99|0.39|7.78|0.00|0.00|    1|\n",
      "|    4|1.51766|13.21|3.69|1.29|72.61|0.57|8.22|0.00|0.00|    1|\n",
      "|    5|1.51742|13.27|3.62|1.24|73.08|0.55|8.07|0.00|0.00|    1|\n",
      "|    6|1.51596|12.79|3.61|1.62|72.97|0.64|8.07|0.00|0.26|    1|\n",
      "|    7|1.51743|13.30|3.60|1.14|73.09|0.58|8.17|0.00|0.00|    1|\n",
      "|    8|1.51756|13.15|3.61|1.05|73.24|0.57|8.24|0.00|0.00|    1|\n",
      "|    9|1.51918|14.04|3.58|1.37|72.08|0.56|8.30|0.00|0.00|    1|\n",
      "|   10|1.51755|13.00|3.60|1.36|72.99|0.57|8.40|0.00|0.11|    1|\n",
      "|   11|1.51571|12.72|3.46|1.56|73.20|0.67|8.09|0.00|0.24|    1|\n",
      "|   12|1.51763|12.80|3.66|1.27|73.01|0.60|8.56|0.00|0.00|    1|\n",
      "|   13|1.51589|12.88|3.43|1.40|73.28|0.69|8.05|0.00|0.24|    1|\n",
      "|   14|1.51748|12.86|3.56|1.27|73.21|0.54|8.38|0.00|0.17|    1|\n",
      "|   15|1.51763|12.61|3.59|1.31|73.29|0.58|8.50|0.00|0.00|    1|\n",
      "|   16|1.51761|12.81|3.54|1.23|73.24|0.58|8.39|0.00|0.00|    1|\n",
      "|   17|1.51784|12.68|3.67|1.16|73.11|0.61|8.70|0.00|0.00|    1|\n",
      "|   18|1.52196|14.36|3.85|0.89|71.36|0.15|9.15|0.00|0.00|    1|\n",
      "|   19|1.51911|13.90|3.73|1.18|72.12|0.06|8.89|0.00|0.00|    1|\n",
      "|   20|1.51735|13.02|3.54|1.69|72.73|0.54|8.44|0.00|0.07|    1|\n",
      "+-----+-------+-----+----+----+-----+----+----+----+----+-----+\n",
      "only showing top 20 rows\n",
      "\n"
     ]
    }
   ],
   "source": [
    "df.show()"
   ]
  },
  {
   "cell_type": "code",
   "execution_count": 10,
   "metadata": {},
   "outputs": [],
   "source": [
    "# we will dos tandard scaling before applying PCA"
   ]
  },
  {
   "cell_type": "code",
   "execution_count": 7,
   "metadata": {},
   "outputs": [],
   "source": [
    "#we do not need to scale our label coulmn, so let's seperate it\n",
    "\n",
    "label = df.select('Class')"
   ]
  },
  {
   "cell_type": "code",
   "execution_count": 8,
   "metadata": {},
   "outputs": [],
   "source": [
    "features = df.drop('Class')"
   ]
  },
  {
   "cell_type": "code",
   "execution_count": 9,
   "metadata": {},
   "outputs": [],
   "source": [
    "col_names = features.columns\n",
    "features_rdd = features.rdd.map(lambda row: row[0:])"
   ]
  },
  {
   "cell_type": "code",
   "execution_count": null,
   "metadata": {},
   "outputs": [],
   "source": [
    "features_rdd.collect()"
   ]
  },
  {
   "cell_type": "code",
   "execution_count": 11,
   "metadata": {},
   "outputs": [],
   "source": [
    "scaler1 = StandardScaler().fit(features_rdd)"
   ]
  },
  {
   "cell_type": "code",
   "execution_count": 12,
   "metadata": {},
   "outputs": [],
   "source": [
    "scaled_features=scaler1.transform(features_rdd)"
   ]
  },
  {
   "cell_type": "code",
   "execution_count": null,
   "metadata": {},
   "outputs": [],
   "source": [
    "for data in scaled_features.collect():\n",
    "    print(data)"
   ]
  },
  {
   "cell_type": "code",
   "execution_count": 17,
   "metadata": {},
   "outputs": [],
   "source": [
    "pca = PCA(k=3)\n",
    "model = pca.fit(scaled_features)"
   ]
  },
  {
   "cell_type": "code",
   "execution_count": 20,
   "metadata": {},
   "outputs": [
    {
     "data": {
      "text/plain": [
       "MapPartitionsRDD[41] at mapPartitions at PythonMLLibAPI.scala:1336"
      ]
     },
     "execution_count": 20,
     "metadata": {},
     "output_type": "execute_result"
    }
   ],
   "source": [
    "result = model.transform(scaled_features)"
   ]
  },
  {
   "cell_type": "code",
   "execution_count": 30,
   "metadata": {},
   "outputs": [],
   "source": [
    "#store dense vector in a dataframe"
   ]
  },
  {
   "cell_type": "code",
   "execution_count": 31,
   "metadata": {},
   "outputs": [],
   "source": [
    "df =result.map(lambda x: (x, )).toDF([\"PCA_Features\"])"
   ]
  },
  {
   "cell_type": "code",
   "execution_count": 32,
   "metadata": {},
   "outputs": [
    {
     "name": "stdout",
     "output_type": "stream",
     "text": [
      "+------------------------------------------------------------+\n",
      "|PCA_Features                                                |\n",
      "+------------------------------------------------------------+\n",
      "|[121.27139068803648,-255.7711564625892,-4.196845118886992]  |\n",
      "|[120.05549997551647,-254.54587401309547,-4.381436698368739] |\n",
      "|[119.84798719645046,-254.20344475546793,-4.381251736462124] |\n",
      "|[120.46108996886237,-254.67949602807138,-3.9459383020114496]|\n",
      "|[120.35044011370479,-254.4653916159397,-4.314355448974061]  |\n",
      "|[120.45089628391106,-254.3745775769602,-2.96892323108168]   |\n",
      "|[120.42061239242885,-254.5173681539074,-4.370326737605008]  |\n",
      "|[120.5600319131514,-254.53042059230148,-4.455718059263219]  |\n",
      "|[120.21596832653775,-255.23024547077227,-3.9323571038112295]|\n",
      "|[120.53837763905427,-254.73937060667092,-3.712336421811534] |\n",
      "|[120.36864286958993,-254.29818100371133,-3.148700608085193] |\n",
      "|[120.55406975213215,-254.6982022163838,-3.9768907100498794] |\n",
      "|[120.42918755933822,-254.3202896086675,-3.352150808310491]  |\n",
      "|[120.69459096201548,-254.7425543109257,-3.69648086954322]   |\n",
      "|[120.50463851925811,-254.61178204570135,-4.0488549046168005]|\n",
      "|[120.47099004856675,-254.61265781240758,-4.1665532838284625]|\n",
      "|[120.69220503584523,-254.7804232754811,-4.037585071968915]  |\n",
      "|[121.06970583234715,-256.48596167184013,-4.308140931156364] |\n",
      "|[120.55153275711756,-255.64756342764528,-4.526901748966561] |\n",
      "|[120.09922959579788,-254.79783775018157,-3.5010166039652133]|\n",
      "+------------------------------------------------------------+\n",
      "only showing top 20 rows\n",
      "\n"
     ]
    }
   ],
   "source": [
    "df.show(truncate=False)"
   ]
  },
  {
   "cell_type": "code",
   "execution_count": 33,
   "metadata": {},
   "outputs": [],
   "source": [
    "sc.stop()"
   ]
  },
  {
   "cell_type": "code",
   "execution_count": null,
   "metadata": {},
   "outputs": [],
   "source": []
  }
 ],
 "metadata": {
  "kernelspec": {
   "display_name": "Python 3",
   "language": "python",
   "name": "python3"
  },
  "language_info": {
   "codemirror_mode": {
    "name": "ipython",
    "version": 3
   },
   "file_extension": ".py",
   "mimetype": "text/x-python",
   "name": "python",
   "nbconvert_exporter": "python",
   "pygments_lexer": "ipython3",
   "version": "3.7.6"
  }
 },
 "nbformat": 4,
 "nbformat_minor": 4
}
