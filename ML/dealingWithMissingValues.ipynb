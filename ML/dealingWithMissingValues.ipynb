{
 "cells": [
  {
   "cell_type": "code",
   "execution_count": 1,
   "metadata": {},
   "outputs": [],
   "source": [
    "from __future__ import print_function\n",
    "import findspark\n",
    "findspark.init()\n",
    "findspark.find()\n",
    "import pyspark\n",
    "findspark.find()\n",
    "from pyspark.sql import SparkSession\n",
    "from pyspark.mllib.regression import LabeledPoint, LinearRegressionWithSGD, LinearRegressionModel"
   ]
  },
  {
   "cell_type": "code",
   "execution_count": 2,
   "metadata": {},
   "outputs": [],
   "source": [
    "if __name__ == \"__main__\":\n",
    "    spark = SparkSession\\\n",
    "        .builder\\\n",
    "        .appName(\"dealWithMisingvaluesWithSpark\")\\\n",
    "        .getOrCreate()"
   ]
  },
  {
   "cell_type": "code",
   "execution_count": 3,
   "metadata": {},
   "outputs": [],
   "source": [
    "dataset = spark.read.csv(\"Admission_Prediction.csv\",header=True)"
   ]
  },
  {
   "cell_type": "code",
   "execution_count": 5,
   "metadata": {},
   "outputs": [
    {
     "data": {
      "text/plain": [
       "[Row(GRE Score='337.00', TOEFL Score='118.00', University Rating='4', SOP='4.50', LOR='4.50', CGPA='9.65', Research='1.00', Chance of Admit='0.92'),\n",
       " Row(GRE Score='324.00', TOEFL Score='107.00', University Rating='4', SOP='4.00', LOR='4.50', CGPA='8.87', Research='1.00', Chance of Admit='0.76'),\n",
       " Row(GRE Score=None, TOEFL Score='104.00', University Rating='3', SOP='3.00', LOR='3.50', CGPA='8.00', Research='1.00', Chance of Admit='0.72'),\n",
       " Row(GRE Score='322.00', TOEFL Score='110.00', University Rating='3', SOP='3.50', LOR='2.50', CGPA='8.67', Research='1.00', Chance of Admit='0.80'),\n",
       " Row(GRE Score='314.00', TOEFL Score='103.00', University Rating='2', SOP='2.00', LOR='3.00', CGPA='8.21', Research='0.00', Chance of Admit='0.65')]"
      ]
     },
     "execution_count": 5,
     "metadata": {},
     "output_type": "execute_result"
    }
   ],
   "source": [
    "dataset.head(5)"
   ]
  },
  {
   "cell_type": "code",
   "execution_count": 6,
   "metadata": {},
   "outputs": [
    {
     "name": "stdout",
     "output_type": "stream",
     "text": [
      "+---------+-----------+-----------------+----+----+----+--------+---------------+\n",
      "|GRE Score|TOEFL Score|University Rating| SOP| LOR|CGPA|Research|Chance of Admit|\n",
      "+---------+-----------+-----------------+----+----+----+--------+---------------+\n",
      "|   337.00|     118.00|                4|4.50|4.50|9.65|    1.00|           0.92|\n",
      "|   324.00|     107.00|                4|4.00|4.50|8.87|    1.00|           0.76|\n",
      "|     null|     104.00|                3|3.00|3.50|8.00|    1.00|           0.72|\n",
      "|   322.00|     110.00|                3|3.50|2.50|8.67|    1.00|           0.80|\n",
      "|   314.00|     103.00|                2|2.00|3.00|8.21|    0.00|           0.65|\n",
      "|   330.00|     115.00|                5|4.50|3.00|9.34|    1.00|           0.90|\n",
      "|   321.00|     109.00|             null|3.00|4.00|8.20|    1.00|           0.75|\n",
      "|   308.00|     101.00|                2|3.00|4.00|7.90|    0.00|           0.68|\n",
      "|   302.00|     102.00|                1|2.00|1.50|8.00|    0.00|           0.50|\n",
      "|   323.00|     108.00|                3|3.50|3.00|8.60|    0.00|           0.45|\n",
      "|   325.00|     106.00|                3|3.50|4.00|8.40|    1.00|           0.52|\n",
      "|   327.00|     111.00|                4|4.00|4.50|9.00|    1.00|           0.84|\n",
      "|     null|     112.00|                4|4.00|4.50|9.10|    1.00|           0.78|\n",
      "|   307.00|     109.00|                3|4.00|3.00|8.00|    1.00|           0.62|\n",
      "|   311.00|     104.00|                3|3.50|2.00|8.20|    1.00|           0.61|\n",
      "|   314.00|     105.00|                3|3.50|2.50|8.30|    0.00|           0.54|\n",
      "|   317.00|     107.00|                3|4.00|3.00|8.70|    0.00|           0.66|\n",
      "|   319.00|     106.00|                3|4.00|3.00|8.00|    1.00|           0.65|\n",
      "|   318.00|     110.00|                3|4.00|3.00|8.80|    0.00|           0.63|\n",
      "|   303.00|     102.00|                3|3.50|3.00|8.50|    0.00|           0.62|\n",
      "+---------+-----------+-----------------+----+----+----+--------+---------------+\n",
      "only showing top 20 rows\n",
      "\n"
     ]
    }
   ],
   "source": [
    "dataset.show()"
   ]
  },
  {
   "cell_type": "code",
   "execution_count": 7,
   "metadata": {},
   "outputs": [
    {
     "name": "stdout",
     "output_type": "stream",
     "text": [
      "root\n",
      " |-- GRE Score: string (nullable = true)\n",
      " |-- TOEFL Score: string (nullable = true)\n",
      " |-- University Rating: string (nullable = true)\n",
      " |-- SOP: string (nullable = true)\n",
      " |-- LOR: string (nullable = true)\n",
      " |-- CGPA: string (nullable = true)\n",
      " |-- Research: string (nullable = true)\n",
      " |-- Chance of Admit: string (nullable = true)\n",
      "\n"
     ]
    }
   ],
   "source": [
    "dataset.printSchema()"
   ]
  },
  {
   "cell_type": "markdown",
   "metadata": {},
   "source": [
    "our columns are of float datatype but it is showing string here. Let's change our columns datatype"
   ]
  },
  {
   "cell_type": "code",
   "execution_count": 8,
   "metadata": {},
   "outputs": [],
   "source": [
    "from pyspark.sql.functions import col\n",
    "new_data = dataset.select(*(col(c).cast(\"float\").alias(c) for c in dataset.columns))"
   ]
  },
  {
   "cell_type": "code",
   "execution_count": 9,
   "metadata": {},
   "outputs": [
    {
     "name": "stdout",
     "output_type": "stream",
     "text": [
      "root\n",
      " |-- GRE Score: float (nullable = true)\n",
      " |-- TOEFL Score: float (nullable = true)\n",
      " |-- University Rating: float (nullable = true)\n",
      " |-- SOP: float (nullable = true)\n",
      " |-- LOR: float (nullable = true)\n",
      " |-- CGPA: float (nullable = true)\n",
      " |-- Research: float (nullable = true)\n",
      " |-- Chance of Admit: float (nullable = true)\n",
      "\n"
     ]
    }
   ],
   "source": [
    "new_data.printSchema()"
   ]
  },
  {
   "cell_type": "code",
   "execution_count": 10,
   "metadata": {},
   "outputs": [
    {
     "data": {
      "text/plain": [
       "['GRE Score',\n",
       " 'TOEFL Score',\n",
       " 'University Rating',\n",
       " 'SOP',\n",
       " 'LOR',\n",
       " 'CGPA',\n",
       " 'Research',\n",
       " 'Chance of Admit']"
      ]
     },
     "execution_count": 10,
     "metadata": {},
     "output_type": "execute_result"
    }
   ],
   "source": [
    "new_data.columns"
   ]
  },
  {
   "cell_type": "code",
   "execution_count": 11,
   "metadata": {},
   "outputs": [
    {
     "data": {
      "text/plain": [
       "pyspark.sql.dataframe.DataFrame"
      ]
     },
     "execution_count": 11,
     "metadata": {},
     "output_type": "execute_result"
    }
   ],
   "source": [
    "type(new_data)"
   ]
  },
  {
   "cell_type": "code",
   "execution_count": 12,
   "metadata": {},
   "outputs": [
    {
     "name": "stdout",
     "output_type": "stream",
     "text": [
      "+---------+-----------+-----------------+---+---+----+--------+---------------+\n",
      "|GRE Score|TOEFL Score|University Rating|SOP|LOR|CGPA|Research|Chance of Admit|\n",
      "+---------+-----------+-----------------+---+---+----+--------+---------------+\n",
      "|    337.0|      118.0|              4.0|4.5|4.5|9.65|     1.0|           0.92|\n",
      "|    324.0|      107.0|              4.0|4.0|4.5|8.87|     1.0|           0.76|\n",
      "|     null|      104.0|              3.0|3.0|3.5| 8.0|     1.0|           0.72|\n",
      "|    322.0|      110.0|              3.0|3.5|2.5|8.67|     1.0|            0.8|\n",
      "|    314.0|      103.0|              2.0|2.0|3.0|8.21|     0.0|           0.65|\n",
      "|    330.0|      115.0|              5.0|4.5|3.0|9.34|     1.0|            0.9|\n",
      "|    321.0|      109.0|             null|3.0|4.0| 8.2|     1.0|           0.75|\n",
      "|    308.0|      101.0|              2.0|3.0|4.0| 7.9|     0.0|           0.68|\n",
      "|    302.0|      102.0|              1.0|2.0|1.5| 8.0|     0.0|            0.5|\n",
      "|    323.0|      108.0|              3.0|3.5|3.0| 8.6|     0.0|           0.45|\n",
      "|    325.0|      106.0|              3.0|3.5|4.0| 8.4|     1.0|           0.52|\n",
      "|    327.0|      111.0|              4.0|4.0|4.5| 9.0|     1.0|           0.84|\n",
      "|     null|      112.0|              4.0|4.0|4.5| 9.1|     1.0|           0.78|\n",
      "|    307.0|      109.0|              3.0|4.0|3.0| 8.0|     1.0|           0.62|\n",
      "|    311.0|      104.0|              3.0|3.5|2.0| 8.2|     1.0|           0.61|\n",
      "|    314.0|      105.0|              3.0|3.5|2.5| 8.3|     0.0|           0.54|\n",
      "|    317.0|      107.0|              3.0|4.0|3.0| 8.7|     0.0|           0.66|\n",
      "|    319.0|      106.0|              3.0|4.0|3.0| 8.0|     1.0|           0.65|\n",
      "|    318.0|      110.0|              3.0|4.0|3.0| 8.8|     0.0|           0.63|\n",
      "|    303.0|      102.0|              3.0|3.5|3.0| 8.5|     0.0|           0.62|\n",
      "+---------+-----------+-----------------+---+---+----+--------+---------------+\n",
      "only showing top 20 rows\n",
      "\n"
     ]
    }
   ],
   "source": [
    "new_data.show()"
   ]
  },
  {
   "cell_type": "code",
   "execution_count": 14,
   "metadata": {},
   "outputs": [
    {
     "name": "stdout",
     "output_type": "stream",
     "text": [
      "+-------+------------------+\n",
      "|summary|               SOP|\n",
      "+-------+------------------+\n",
      "|  count|               500|\n",
      "|   mean|             3.374|\n",
      "| stddev|0.9910036207566072|\n",
      "|    min|               1.0|\n",
      "|    max|               5.0|\n",
      "+-------+------------------+\n",
      "\n"
     ]
    }
   ],
   "source": [
    "new_data.describe('SOP').show()"
   ]
  },
  {
   "cell_type": "code",
   "execution_count": 15,
   "metadata": {},
   "outputs": [],
   "source": [
    "from pyspark.sql.functions import col, count, isnan, when"
   ]
  },
  {
   "cell_type": "code",
   "execution_count": 16,
   "metadata": {},
   "outputs": [
    {
     "name": "stdout",
     "output_type": "stream",
     "text": [
      "+---------+-----------+-----------------+---+---+----+--------+---------------+\n",
      "|GRE Score|TOEFL Score|University Rating|SOP|LOR|CGPA|Research|Chance of Admit|\n",
      "+---------+-----------+-----------------+---+---+----+--------+---------------+\n",
      "|       15|         10|               15|  0|  0|   0|       0|              0|\n",
      "+---------+-----------+-----------------+---+---+----+--------+---------------+\n",
      "\n"
     ]
    }
   ],
   "source": [
    "#checking for null ir nan type values in our columns\n",
    "new_data.select([count(when(col(c).isNull(), c)).alias(c) for c in new_data.columns]).show()"
   ]
  },
  {
   "cell_type": "code",
   "execution_count": 16,
   "metadata": {},
   "outputs": [
    {
     "name": "stdout",
     "output_type": "stream",
     "text": [
      "+---------+-----------+-----------------+---+---+----+--------+---------------+\n",
      "|GRE Score|TOEFL Score|University Rating|SOP|LOR|CGPA|Research|Chance of Admit|\n",
      "+---------+-----------+-----------------+---+---+----+--------+---------------+\n",
      "|    337.0|      118.0|              4.0|4.5|4.5|9.65|     1.0|           0.92|\n",
      "|    324.0|      107.0|              4.0|4.0|4.5|8.87|     1.0|           0.76|\n",
      "|     null|      104.0|              3.0|3.0|3.5| 8.0|     1.0|           0.72|\n",
      "|    322.0|      110.0|              3.0|3.5|2.5|8.67|     1.0|            0.8|\n",
      "|    314.0|      103.0|              2.0|2.0|3.0|8.21|     0.0|           0.65|\n",
      "|    330.0|      115.0|              5.0|4.5|3.0|9.34|     1.0|            0.9|\n",
      "|    321.0|      109.0|             null|3.0|4.0| 8.2|     1.0|           0.75|\n",
      "|    308.0|      101.0|              2.0|3.0|4.0| 7.9|     0.0|           0.68|\n",
      "|    302.0|      102.0|              1.0|2.0|1.5| 8.0|     0.0|            0.5|\n",
      "|    323.0|      108.0|              3.0|3.5|3.0| 8.6|     0.0|           0.45|\n",
      "|    325.0|      106.0|              3.0|3.5|4.0| 8.4|     1.0|           0.52|\n",
      "|    327.0|      111.0|              4.0|4.0|4.5| 9.0|     1.0|           0.84|\n",
      "|     null|      112.0|              4.0|4.0|4.5| 9.1|     1.0|           0.78|\n",
      "|    307.0|      109.0|              3.0|4.0|3.0| 8.0|     1.0|           0.62|\n",
      "|    311.0|      104.0|              3.0|3.5|2.0| 8.2|     1.0|           0.61|\n",
      "|    314.0|      105.0|              3.0|3.5|2.5| 8.3|     0.0|           0.54|\n",
      "|    317.0|      107.0|              3.0|4.0|3.0| 8.7|     0.0|           0.66|\n",
      "|    319.0|      106.0|              3.0|4.0|3.0| 8.0|     1.0|           0.65|\n",
      "|    318.0|      110.0|              3.0|4.0|3.0| 8.8|     0.0|           0.63|\n",
      "|    303.0|      102.0|              3.0|3.5|3.0| 8.5|     0.0|           0.62|\n",
      "+---------+-----------+-----------------+---+---+----+--------+---------------+\n",
      "only showing top 20 rows\n",
      "\n"
     ]
    }
   ],
   "source": [
    "new_data.show()"
   ]
  },
  {
   "cell_type": "code",
   "execution_count": 17,
   "metadata": {},
   "outputs": [],
   "source": [
    "from pyspark.ml.feature import Imputer"
   ]
  },
  {
   "cell_type": "code",
   "execution_count": 18,
   "metadata": {},
   "outputs": [],
   "source": [
    "imputer = Imputer(inputCols=[\"GRE Score\", \"TOEFL Score\",\"University Rating\"], \n",
    "                  outputCols=[\"GRE Score\", \"TOEFL Score\",\"University Rating\"])\n",
    "model = imputer.fit(new_data)\n",
    "\n",
    "imputed_data = model.transform(new_data)"
   ]
  },
  {
   "cell_type": "code",
   "execution_count": 19,
   "metadata": {},
   "outputs": [
    {
     "name": "stdout",
     "output_type": "stream",
     "text": [
      "+---------+-----------+-----------------+---+---+----+--------+---------------+\n",
      "|GRE Score|TOEFL Score|University Rating|SOP|LOR|CGPA|Research|Chance of Admit|\n",
      "+---------+-----------+-----------------+---+---+----+--------+---------------+\n",
      "|        0|          0|                0|  0|  0|   0|       0|              0|\n",
      "+---------+-----------+-----------------+---+---+----+--------+---------------+\n",
      "\n"
     ]
    }
   ],
   "source": [
    "#checking for null ir nan type values in our columns\n",
    "imputed_data.select([count(when(col(c).isNull(), c)).alias(c) for c in imputed_data.columns]).show()"
   ]
  },
  {
   "cell_type": "code",
   "execution_count": 20,
   "metadata": {},
   "outputs": [
    {
     "name": "stdout",
     "output_type": "stream",
     "text": [
      "+---------+-----------+-----------------+---+---+----+--------+---------------+\n",
      "|GRE Score|TOEFL Score|University Rating|SOP|LOR|CGPA|Research|Chance of Admit|\n",
      "+---------+-----------+-----------------+---+---+----+--------+---------------+\n",
      "|    337.0|      118.0|              4.0|4.5|4.5|9.65|     1.0|           0.92|\n",
      "|    324.0|      107.0|              4.0|4.0|4.5|8.87|     1.0|           0.76|\n",
      "|316.55878|      104.0|              3.0|3.0|3.5| 8.0|     1.0|           0.72|\n",
      "|    322.0|      110.0|              3.0|3.5|2.5|8.67|     1.0|            0.8|\n",
      "|    314.0|      103.0|              2.0|2.0|3.0|8.21|     0.0|           0.65|\n",
      "|    330.0|      115.0|              5.0|4.5|3.0|9.34|     1.0|            0.9|\n",
      "|    321.0|      109.0|        3.1216495|3.0|4.0| 8.2|     1.0|           0.75|\n",
      "|    308.0|      101.0|              2.0|3.0|4.0| 7.9|     0.0|           0.68|\n",
      "|    302.0|      102.0|              1.0|2.0|1.5| 8.0|     0.0|            0.5|\n",
      "|    323.0|      108.0|              3.0|3.5|3.0| 8.6|     0.0|           0.45|\n",
      "|    325.0|      106.0|              3.0|3.5|4.0| 8.4|     1.0|           0.52|\n",
      "|    327.0|      111.0|              4.0|4.0|4.5| 9.0|     1.0|           0.84|\n",
      "|316.55878|      112.0|              4.0|4.0|4.5| 9.1|     1.0|           0.78|\n",
      "|    307.0|      109.0|              3.0|4.0|3.0| 8.0|     1.0|           0.62|\n",
      "|    311.0|      104.0|              3.0|3.5|2.0| 8.2|     1.0|           0.61|\n",
      "|    314.0|      105.0|              3.0|3.5|2.5| 8.3|     0.0|           0.54|\n",
      "|    317.0|      107.0|              3.0|4.0|3.0| 8.7|     0.0|           0.66|\n",
      "|    319.0|      106.0|              3.0|4.0|3.0| 8.0|     1.0|           0.65|\n",
      "|    318.0|      110.0|              3.0|4.0|3.0| 8.8|     0.0|           0.63|\n",
      "|    303.0|      102.0|              3.0|3.5|3.0| 8.5|     0.0|           0.62|\n",
      "+---------+-----------+-----------------+---+---+----+--------+---------------+\n",
      "only showing top 20 rows\n",
      "\n"
     ]
    }
   ],
   "source": [
    "imputed_data.show()"
   ]
  },
  {
   "cell_type": "code",
   "execution_count": 21,
   "metadata": {},
   "outputs": [],
   "source": [
    "spark.stop()"
   ]
  },
  {
   "cell_type": "code",
   "execution_count": null,
   "metadata": {},
   "outputs": [],
   "source": []
  },
  {
   "cell_type": "code",
   "execution_count": null,
   "metadata": {},
   "outputs": [],
   "source": []
  }
 ],
 "metadata": {
  "kernelspec": {
   "display_name": "Python 3",
   "language": "python",
   "name": "python3"
  },
  "language_info": {
   "codemirror_mode": {
    "name": "ipython",
    "version": 3
   },
   "file_extension": ".py",
   "mimetype": "text/x-python",
   "name": "python",
   "nbconvert_exporter": "python",
   "pygments_lexer": "ipython3",
   "version": "3.7.6"
  }
 },
 "nbformat": 4,
 "nbformat_minor": 4
}
